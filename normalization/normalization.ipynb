{
 "cells": [
  {
   "cell_type": "markdown",
   "metadata": {
    "colab_type": "text",
    "id": "view-in-github"
   },
   "source": [
    "<a href=\"https://colab.research.google.com/github/Tadesse-Destaw/Normalization/blob/main/NLP_Preprocessing_and_Normalization.ipynb\" target=\"_parent\"><img src=\"https://colab.research.google.com/assets/colab-badge.svg\" alt=\"Open In Colab\"/></a>"
   ]
  },
  {
   "cell_type": "markdown",
   "metadata": {
    "id": "Lk-54TsjgNLU"
   },
   "source": [
    "# Amharic Text Preprocessing & Tokinization"
   ]
  },
  {
   "cell_type": "code",
   "execution_count": 52,
   "metadata": {},
   "outputs": [],
   "source": [
    "!pip install flair\n",
    "!pip install sweetviz\n",
    "!pip install Unidecode\n",
    "!pip install emoji\n",
    "!pip install python-Levenshtein\n",
    "!pip install import-ipynb"
   ]
  },
  {
   "cell_type": "code",
   "execution_count": 3,
   "metadata": {},
   "outputs": [],
   "source": [
    "import sys\n",
    "sys.path.append('../')"
   ]
  },
  {
   "cell_type": "code",
   "execution_count": 4,
   "metadata": {
    "id": "nvd09op035BW"
   },
   "outputs": [
    {
     "name": "stdout",
     "output_type": "stream",
     "text": [
      "importing Jupyter notebook from normalizer.ipynb\n"
     ]
    }
   ],
   "source": [
    "import importlib\n",
    "from IPython.display import display\n",
    "import sweetviz\n",
    "import re\n",
    "import random\n",
    "import pandas as pd\n",
    "import warnings\n",
    "import unidecode\n",
    "import numpy as np\n",
    "import glob\n",
    "import csv\n",
    "import emoji\n",
    "from typing import List\n",
    "from flair.data import Token\n",
    "from Levenshtein import distance \n",
    "import import_ipynb\n",
    "from preprocessing.amharicSegmenter import AmharicSegmenter\n",
    "from normalizer import normalize\n",
    "warnings.filterwarnings('ignore')"
   ]
  },
  {
   "cell_type": "code",
   "execution_count": 9,
   "metadata": {
    "id": "6sWjOiofABCZ"
   },
   "outputs": [],
   "source": [
    "def normalize(data):\n",
    "    normal = unicodedata.normalize('NFKD', data).encode('ASCII', 'ignore')\n",
    "    return(normal.decode())"
   ]
  },
  {
   "cell_type": "code",
   "execution_count": 55,
   "metadata": {
    "id": "TnGnSUuWva-X",
    "scrolled": true
   },
   "outputs": [],
   "source": [
    "#May_news_DF.Content[1]"
   ]
  },
  {
   "cell_type": "markdown",
   "metadata": {
    "id": "bUxQey0--inh"
   },
   "source": [
    "# Generate Homophone words from the corpus\n",
    "\n",
    "\n"
   ]
  },
  {
   "cell_type": "code",
   "execution_count": 33,
   "metadata": {
    "id": "OCJQmsCQfF0V"
   },
   "outputs": [],
   "source": [
    "hm1 =['ሀ','ሃ','ኀ','ኃ','ሐ','ሓ']\n",
    "hm2 =['ሁ','ሑ','ኁ']\n",
    "hm3 =['ህ','ሕ','ኅ']\n",
    "hm4 =['ሰ','ሠ']\n",
    "hm5 =['ስ','ሥ']\n",
    "hm6 =['አ','ኣ','ዐ','ዓ']\n",
    "hm7 =['ፀ','ጸ']\n",
    "hm8 =['ፅ','ጽ']"
   ]
  },
  {
   "cell_type": "code",
   "execution_count": 34,
   "metadata": {
    "id": "E2hwG9C4Wkfr"
   },
   "outputs": [],
   "source": [
    "df = pd.read_csv(\"MayNews_Content.csv\")\n",
    "df =pd.DataFrame(df)"
   ]
  },
  {
   "cell_type": "code",
   "execution_count": 35,
   "metadata": {
    "id": "UJl7E1jJiMv5"
   },
   "outputs": [],
   "source": [
    "#Converting Dataframe to Lists\n",
    "#News = df[df.Content.str.contains('|'.join(hm1))]\n",
    "#News['Content'] = News.Content.apply(lambda x: str(x).split())\n",
    "list_of_words = df['Content'].str.split(' ').to_list()"
   ]
  },
  {
   "cell_type": "code",
   "execution_count": null,
   "metadata": {
    "colab": {
     "base_uri": "https://localhost:8080/"
    },
    "id": "_rb0FCGx2QEl",
    "outputId": "1d1db810-e4c8-49fe-d9c2-414e4e783ef4"
   },
   "outputs": [],
   "source": [
    "print (len(list_of_words))"
   ]
  },
  {
   "cell_type": "code",
   "execution_count": 36,
   "metadata": {
    "id": "71_a57xKon_v"
   },
   "outputs": [],
   "source": [
    "#Converting Lists to Pandas Series\n",
    "pd_series = pd.Series(list_of_words)\n",
    "pd_series = pd_series.apply(pd.Series).stack().reset_index(drop = True) \n",
    "series_List = pd_series[pd_series.str.contains('|'.join(hm1))]            #words contains hml only\n"
   ]
  },
  {
   "cell_type": "code",
   "execution_count": 39,
   "metadata": {
    "colab": {
     "base_uri": "https://localhost:8080/"
    },
    "id": "2626tXKPN3-X",
    "outputId": "ada14491-fd9b-4e43-a19f-22b5f5ffe7b1"
   },
   "outputs": [
    {
     "data": {
      "text/plain": [
       "23           ሀገር\n",
       "101        በሀገሪቱ\n",
       "129         ፍትሃዊ\n",
       "152          ሀብት\n",
       "206         ሓርነት\n",
       "           ...  \n",
       "1747568      ከሃና\n",
       "1747609     በገሃድ\n",
       "1747646       ሃና\n",
       "1747661     በረሃብ\n",
       "1747832     ሃጥያት\n",
       "Length: 38082, dtype: object"
      ]
     },
     "execution_count": 39,
     "metadata": {},
     "output_type": "execute_result"
    }
   ],
   "source": [
    "series_List"
   ]
  },
  {
   "cell_type": "code",
   "execution_count": 40,
   "metadata": {
    "colab": {
     "base_uri": "https://localhost:8080/"
    },
    "id": "dr7VyhmYv3G3",
    "outputId": "cfa19fe5-82d6-46da-9d6b-e26d3431ceaa"
   },
   "outputs": [
    {
     "name": "stdout",
     "output_type": "stream",
     "text": [
      "4934\n"
     ]
    }
   ],
   "source": [
    "#Remove duplicated Valuees\n",
    "test_words = set(series_List)\n",
    "print (len(test_words))"
   ]
  },
  {
   "cell_type": "code",
   "execution_count": 41,
   "metadata": {
    "colab": {
     "base_uri": "https://localhost:8080/",
     "height": 35
    },
    "id": "9Z1n46UKb_by",
    "outputId": "daa20407-8f3f-404b-84da-0a5d17ab8dcf"
   },
   "outputs": [
    {
     "data": {
      "text/plain": [
       "'ገር'"
      ]
     },
     "execution_count": 41,
     "metadata": {},
     "output_type": "execute_result"
    }
   ],
   "source": [
    "target_word = 'ሀገር'\n",
    "for hm in hm1:\n",
    "  position=target_word.index(hm)\n",
    "  if position >=0:\n",
    "    break\n",
    "target_word[:position] + '' + target_word[position+1:]"
   ]
  },
  {
   "cell_type": "code",
   "execution_count": 42,
   "metadata": {
    "colab": {
     "base_uri": "https://localhost:8080/"
    },
    "id": "1M4U9YKOc3d6",
    "outputId": "515055b4-baf7-4c6d-9b50-4afd7e361ccd"
   },
   "outputs": [
    {
     "name": "stdout",
     "output_type": "stream",
     "text": [
      "{'ሀገርኛ', 'ሀገሬ', 'ሀቶር', 'ሀገር!', 'ሀገርና', 'ሀረር', 'ሀገሩ', 'ሀገርም', 'ሐገር', 'ሀገረ', 'ከሀገር', 'ሀገር', 'ሀገርን', 'ሃገር', 'ሀር', 'ሀወር', 'ሀገ', 'ኃገር', 'በሀገር', 'ለሀገር', 'ሀንገር', 'የሀገር', 'ሀገሯ'}\n"
     ]
    }
   ],
   "source": [
    "words=set()\n",
    "def match(target_word):\n",
    "  for word in test_words:\n",
    "    search_word =word.replace('|'.join(hm1),'')\n",
    "    if distance(target_word, search_word) <=1:\n",
    "      words.add(search_word)\n",
    "match(target_word)       \n",
    "print (words)"
   ]
  },
  {
   "cell_type": "code",
   "execution_count": 57,
   "metadata": {
    "colab": {
     "base_uri": "https://localhost:8080/",
     "height": 404
    },
    "id": "3Ve83gnRRAy1",
    "outputId": "c312102b-d281-4bbb-aa7d-84e8d4b24024"
   },
   "outputs": [
    {
     "data": {
      "text/plain": [
       "Text(0.5, 1.0, 'Distribution of characters in words')"
      ]
     },
     "execution_count": 57,
     "metadata": {},
     "output_type": "execute_result"
    },
    {
     "data": {
      "image/png": "[encoded data removed]",
      "text/plain": [
       "<Figure size 720x432 with 1 Axes>"
      ]
     },
     "metadata": {
      "needs_background": "light"
     },
     "output_type": "display_data"
    }
   ],
   "source": [
    "import matplotlib.pyplot as plt  \n",
    "series_List1 = pd_series[pd_series.str.contains('ሀ')] \n",
    "ሀ=len(series_List1)\n",
    "series_List2 = pd_series[pd_series.str.contains('ሐ')] \n",
    "ሐ=len(series_List2)\n",
    "series_List3 = pd_series[pd_series.str.contains('ኀ')] \n",
    "ኀ=len(series_List3)\n",
    "series_List4 = pd_series[pd_series.str.contains('ሃ')] \n",
    "ሃ=len(series_List4)\n",
    "series_List5 = pd_series[pd_series.str.contains('ሓ')] \n",
    "ሓ=len(series_List5)\n",
    "series_List6 = pd_series[pd_series.str.contains('ኃ')] \n",
    "ኃ=len(series_List6)\n",
    "data = {}\n",
    "for variable in [\"ሀ\", \"ሐ\", \"ኀ\",\"ሃ\",\"ሓ\",\"ኃ\"]:\n",
    "    data[variable] = eval(variable)\n",
    "import operator\n",
    "sorted_d = sorted(data.items(), key=operator.itemgetter(1))\n",
    "characters = list(data.keys()) \n",
    "no_words = list(data.values()) \n",
    "   \n",
    "fig = plt.figure(figsize = (10, 6)) \n",
    "# creating the bar plot \n",
    "plt.bar(characters, no_words, color ='maroon') \n",
    "  \n",
    "plt.xlabel(\"Homophone (ha) sound characters\") \n",
    "plt.ylabel(\"Frequency of words\") \n",
    "plt.title(\"Distribution of characters in words\") \n",
    "#plt.show()"
   ]
  },
  {
   "cell_type": "markdown",
   "metadata": {
    "id": "nK-m1_eAvRjq"
   },
   "source": [
    "## Homophone word Occurance Statistics"
   ]
  },
  {
   "cell_type": "code",
   "execution_count": null,
   "metadata": {
    "colab": {
     "base_uri": "https://localhost:8080/"
    },
    "id": "y-IfUg9E4O1k",
    "outputId": "50ab21f6-2c43-4341-eab0-6c9275af502c"
   },
   "outputs": [],
   "source": [
    "homo_word = 'ሐገር'\n",
    "result = list(filter(lambda x: homo_word in x, series_List))\n",
    "#result = [i for i in series_List if homo_word in i] \n",
    "print (len(result))\n"
   ]
  },
  {
   "cell_type": "markdown",
   "metadata": {
    "id": "0ZjC1Yq5-2IB"
   },
   "source": [
    "## Print homophone words with context (the whole sentence)"
   ]
  },
  {
   "cell_type": "code",
   "execution_count": 42,
   "metadata": {
    "id": "9ySSfk1KJim3"
   },
   "outputs": [],
   "source": [
    "f = open(\"all_sentences.txt\", \"r\",encoding=\"utf-8\")\n",
    "content = f.read()\n",
    "list_of_sentences = content.splitlines()\n",
    "f.close()\n",
    "#df = pd.read_csv(\"all_sentences.txt\")\n",
    "#News['Content'] = News.Content.apply(lambda x: str(x).split('([፡፡።?!])'))\n",
    "#list_of_sentences = df['Content'].str.split('([፡፡።?!])').to_list()\n",
    "sentences_series = pd.Series(list_of_sentences)\n",
    "sentences_series = sentences_series.apply(pd.Series).stack().reset_index(drop = True) \n",
    "tagret_sentences = sentences_series[sentences_series.str.contains(\"ሀገር\")]"
   ]
  },
  {
   "cell_type": "code",
   "execution_count": 43,
   "metadata": {
    "colab": {
     "base_uri": "https://localhost:8080/"
    },
    "id": "D5iWVeQxKtoX",
    "outputId": "1909c68e-4105-40c6-c4c4-b5ee122cc441"
   },
   "outputs": [
    {
     "data": {
      "text/plain": [
       "1        በአስር ሺዎች የሚቆጠሩት ሰዎች ቀያቸውን ለቀው ወደ ጎረቤት ሀገር ወደ ሱ...\n",
       "18       መጭው አዲስ ዓመት 2021 እና አፍሪቃ በአስቸጋሪ ሁኔታ የሚካሄዱ ምርጫዎ...\n",
       "106      የቀድሞ የደርግ ባለስልጣናት ከ30 ዓመት በኋላ ተናገሩ በተለይ ለአዲስ አ...\n",
       "578      በብልፅግና የሚመራው መንግስት ህዝብን ከህዝብ ለማጋጨት በሃይማኖታዊ እና ...\n",
       "584      በብልፅግና የሚመራው መንግስት ህዝብን ከህዝብ ለማጋጨት በሃይማኖታዊ እና ...\n",
       "                               ...                        \n",
       "69209    እነዚህ ሁለት መሰረታዊ ጉዳዮች ማንም በቀላሉ ሊታዘበው የሚችልና እነሱም ...\n",
       "69217    የቅናት ስሜት የተሰማኝ ለወገኖች ለሀገሬም ሆነ ለመንግስት እያበረከትኩት ...\n",
       "69236    ማህበራዊ ኑሮአችን ግድ የሚሉንና ለተለያዩ የሀገር ግንባታ አላማዎች ከመን...\n",
       "69243    ዳያስፖራዎች ካሉበት ሀገር እዚህ አገር ቤት ላሉት ዘመድ ወዳጆቻቸው የሚል...\n",
       "69249    ከእኛ ሀገር ዳያስፖራዎች ይህን ያህል ዶላር በየወሩ የሚልክ ምን ያህሉ ይሆን?\n",
       "Length: 713, dtype: object"
      ]
     },
     "execution_count": 43,
     "metadata": {},
     "output_type": "execute_result"
    }
   ],
   "source": [
    "tagret_sentences"
   ]
  },
  {
   "cell_type": "code",
   "execution_count": null,
   "metadata": {
    "id": "TWuN7MEPhFfN"
   },
   "outputs": [],
   "source": [
    "#homo_word = df[df['Content'].str.contains(\"ድህነት\")]\n",
    "#print(\"ድህነት\", len(homo_word))\n",
    "#ድህነት,ኅብር,ሕብር,ሳለ,ሣለ,ሰረገ,ሠረገ,ሰየመ,ሠየመ"
   ]
  },
  {
   "cell_type": "code",
   "execution_count": 52,
   "metadata": {},
   "outputs": [
    {
     "name": "stdout",
     "output_type": "stream",
     "text": [
      "71764.0\n"
     ]
    }
   ],
   "source": [
    "file = open(\"all_sentences.txt\", \"r\",encoding=\"utf-8\")\n",
    "read_file = file.read()\n",
    "content = read_file.split(\"\\n\")\n",
    "sentence_count = 0\n",
    "for line in content:\n",
    "    if line != \"\\n\":\n",
    "        sentence_count += 1.\n",
    "    file. close()\n",
    "print (sentence_count)"
   ]
  },
  {
   "cell_type": "markdown",
   "metadata": {
    "id": "SbpuMdBpuj26"
   },
   "source": [
    "## Homophone Characters Occurance"
   ]
  },
  {
   "cell_type": "code",
   "execution_count": null,
   "metadata": {
    "colab": {
     "base_uri": "https://localhost:8080/"
    },
    "id": "d6wZ2JdFuiFC",
    "outputId": "7aa3d5cb-00ff-4066-aaee-0bca3e11aa52"
   },
   "outputs": [],
   "source": [
    "#ሀ,ሃ,ኀ,ኃ,ሐ,ህ,ሕ,ኅ,አ,ዐ,ዓ,ሰ,ሠ,ሳ,ሣ,ስ,ሥ,ጸ,ፀ\n",
    "hom_char = 0\n",
    "for item in series_List:\n",
    "    if 'ሃ' in item:\n",
    "        hom_char = hom_char + 1\n",
    "print(hom_char)"
   ]
  },
  {
   "cell_type": "markdown",
   "metadata": {
    "id": "b-F2kQvEpJSc"
   },
   "source": [
    "# Normalize based on frequency"
   ]
  },
  {
   "cell_type": "code",
   "execution_count": null,
   "metadata": {
    "id": "ncX7PN-4j9aw"
   },
   "outputs": [],
   "source": []
  },
  {
   "cell_type": "code",
   "execution_count": null,
   "metadata": {
    "id": "Lyl3NrNGkI7q"
   },
   "outputs": [],
   "source": [
    "May_news_DF.Content = May_news_DF.Content.apply(lambda x: normalizef(x))"
   ]
  },
  {
   "cell_type": "markdown",
   "metadata": {
    "id": "UQUk1nmvv7U4"
   },
   "source": [
    "# Normalize based on litrature\n",
    "\n"
   ]
  },
  {
   "cell_type": "code",
   "execution_count": null,
   "metadata": {
    "id": "0yJy8FzbJ3SF"
   },
   "outputs": [],
   "source": [
    "May_news_DF.Content = May_news_DF.Content.apply(lambda x: normalize(x))\n",
    "#May_news_DF.Content[0:10]"
   ]
  },
  {
   "cell_type": "code",
   "execution_count": null,
   "metadata": {},
   "outputs": [],
   "source": []
  }
 ],
 "metadata": {
  "colab": {
   "collapsed_sections": [],
   "include_colab_link": true,
   "name": "NLP Preprocessing and Normalization.ipynb",
   "provenance": []
  },
  "kernelspec": {
   "display_name": "Python 3",
   "language": "python",
   "name": "python3"
  },
  "language_info": {
   "codemirror_mode": {
    "name": "ipython",
    "version": 3
   },
   "file_extension": ".py",
   "mimetype": "text/x-python",
   "name": "python",
   "nbconvert_exporter": "python",
   "pygments_lexer": "ipython3",
   "version": "3.7.4"
  }
 },
 "nbformat": 4,
 "nbformat_minor": 2
}
