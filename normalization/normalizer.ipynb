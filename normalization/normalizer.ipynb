{
 "cells": [
  {
   "cell_type": "markdown",
   "metadata": {},
   "source": [
    "# frequency based normalization"
   ]
  },
  {
   "cell_type": "code",
   "execution_count": null,
   "metadata": {},
   "outputs": [],
   "source": []
  },
  {
   "cell_type": "code",
   "execution_count": 1,
   "metadata": {},
   "outputs": [],
   "source": [
    "import os\n",
    "for root, dirs, files in os.walk('processed/'):\n",
    "    for file in files:\n",
    "        with open(\"processed/\" + file, \"r\",encoding=\"utf-8\") as f:\n",
    "            tokens = f.read().split(\"\\n\")"
   ]
  },
  {
   "cell_type": "markdown",
   "metadata": {},
   "source": [
    "# Split your above    tokens = f.read().split(\"\\n\")"
   ]
  },
  {
   "cell_type": "code",
   "execution_count": 17,
   "metadata": {},
   "outputs": [],
   "source": [
    "def fnormalize (tokens):\n",
    "    tokens = [item.replace(\"ሃ\", \"ሀ\") for item in tokens]\n",
    "    tokens = [item.replace(\"ሐ\", \"ሀ\") for item in tokens]\n",
    "    tokens = [item.replace(\"ሓ\", \"ሀ\") for item in tokens]\n",
    "    tokens = [item.replace(\"ኃ\", \"ሀ\") for item in tokens]\n",
    "    tokens = [item.replace(\"ኻ\", \"ሀ\") for item in tokens]\n",
    "    tokens = [item.replace(\"ሑ\", \"ሁ\") for item in tokens]\n",
    "    tokens = [item.replace(\"ኁ\", \"ሁ\") for item in tokens]\n",
    "    tokens = [item.replace(\"ሑ\", \"ሁ\") for item in tokens]\n",
    "    tokens = [item.replace(\"ኂ\", \"ሂ\") for item in tokens]\n",
    "    tokens = [item.replace(\"ሒ\", \"ሂ\") for item in tokens]\n",
    "    tokens = [item.replace(\"ኄ\", \"ሄ\") for item in tokens]\n",
    "    tokens = [item.replace(\"ዄ\", \"ሄ\") for item in tokens]\n",
    "    tokens = [item.replace(\"ሔ\", \"ሄ\") for item in tokens]\n",
    "    tokens = [item.replace(\"ሕ\", \"ህ\") for item in tokens]\n",
    "    tokens = [item.replace(\"ኅ\", \"ህ\") for item in tokens]\n",
    "    tokens = [item.replace(\"ሖ\", \"ሆ\") for item in tokens]\n",
    "    tokens = [item.replace(\"ኆ\", \"ሆ\") for item in tokens]\n",
    "    tokens = [item.replace(\"ኾ\", \"ሆ\") for item in tokens]\n",
    "    \n",
    "    tokens = [item.replace(\"ሠ\", \"ሰ\") for item in tokens]\n",
    "    tokens = [item.replace(\"ሡ\", \"ሱ\") for item in tokens]\n",
    "    tokens = [item.replace(\"ሢ\", \"ሲ\") for item in tokens]\n",
    "    tokens = [item.replace(\"ሣ\", \"ሳ\") for item in tokens]\n",
    "    tokens = [item.replace(\"ሤ\", \"ሴ\") for item in tokens]\n",
    "    tokens = [item.replace(\"ሥ\", \"ስ\") for item in tokens]\n",
    "    tokens = [item.replace(\"ሦ\", \"ሶ\") for item in tokens]\n",
    "       \n",
    "    tokens = [item.replace(\"ጸ\", \"ፀ\") for item in tokens]\n",
    "    tokens = [item.replace(\"ጹ\", \"ፁ\") for item in tokens]\n",
    "    tokens = [item.replace(\"ጺ\", \"ፂ\") for item in tokens]\n",
    "    tokens = [item.replace(\"ጻ\", \"ፂ\") for item in tokens]\n",
    "    tokens = [item.replace(\"ጼ\", \"ፄ\") for item in tokens]\n",
    "    tokens = [item.replace(\"ጽ\", \"ፅ\") for item in tokens]\n",
    "    tokens = [item.replace(\"ጾ\", \"ፆ\") for item in tokens]\n",
    "    \n",
    "    tokens = [item.replace(\"ዐ\", \"አ\") for item in tokens]\n",
    "    tokens = [item.replace(\"ዑ\", \"ኡ\") for item in tokens]\n",
    "    tokens = [item.replace(\"ዒ\", \"ኢ\") for item in tokens]\n",
    "    tokens = [item.replace(\"ዓ\", \"አ\") for item in tokens]\n",
    "    tokens = [item.replace(\"ኣ\", \"አ\") for item in tokens]\n",
    "    tokens = [item.replace(\"ዔ\", \"ኤ\") for item in tokens]\n",
    "    tokens = [item.replace(\"ዕ\", \"እ\") for item in tokens]\n",
    "    tokens = [item.replace(\"ዖ\", \"ኦ\") for item in tokens]\n",
    "    return tokens\n",
    "norm_tokens = fnormalize(tokens)"
   ]
  },
  {
   "cell_type": "code",
   "execution_count": 18,
   "metadata": {},
   "outputs": [],
   "source": [
    "#norm_tokens"
   ]
  },
  {
   "cell_type": "code",
   "execution_count": null,
   "metadata": {},
   "outputs": [],
   "source": []
  }
 ],
 "metadata": {
  "kernelspec": {
   "display_name": "Python 3",
   "language": "python",
   "name": "python3"
  },
  "language_info": {
   "codemirror_mode": {
    "name": "ipython",
    "version": 3
   },
   "file_extension": ".py",
   "mimetype": "text/x-python",
   "name": "python",
   "nbconvert_exporter": "python",
   "pygments_lexer": "ipython3",
   "version": "3.7.4"
  }
 },
 "nbformat": 4,
 "nbformat_minor": 2
}
