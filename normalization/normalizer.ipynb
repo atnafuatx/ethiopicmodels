{
 "cells": [
  {
   "cell_type": "code",
   "execution_count": null,
   "metadata": {},
   "outputs": [],
   "source": [
    "def normalize(Content):\n",
    "    for idx,cnt in enumerate(Content):\n",
    "        Content[idx] = re.sub(r'[ሃኀኃሐሓኻ]','ሀ', cnt)\n",
    "        Content[idx]=re.sub('[ሑኁዅ]','ሁ',cnt)\n",
    "        Content[idx]=re.sub('[ኂሒኺ]','ሂ',cnt)\n",
    "        Content[idx]=re.sub('[ኌሔዄ]','ሄ',cnt)\n",
    "        Content[idx]=re.sub('[ሕኅ]','ህ',cnt)\n",
    "        Content[idx]=re.sub('[ኆሖኾ]','ሆ',cnt)\n",
    "        Content[idx]=re.sub('[ሠ]','ሰ',cnt)\n",
    "        Content[idx]=re.sub('[ሡ]','ሱ',cnt)\n",
    "        Content[idx]=re.sub('[ሢ]','ሲ',cnt)\n",
    "        Content[idx]=re.sub('[ሣ]','ሳ',cnt)\n",
    "        Content[idx]=re.sub('[ሤ]','ሴ',cnt)\n",
    "        Content[idx]=re.sub('[ሥ]','ስ',cnt)\n",
    "        Content[idx]=re.sub('[ሦ]','ሶ',cnt)\n",
    "        Content[idx]=re.sub('[ዓኣዐ]','አ',cnt)\n",
    "        Content[idx]=re.sub('[ዑ]','ኡ',cnt)\n",
    "        Content[idx]=re.sub('[ዒ]','ኢ',cnt)\n",
    "        Content[idx]=re.sub('[ዔ]','ኤ',cnt)\n",
    "        Content[idx]=re.sub('[ዕ]','እ',cnt)\n",
    "        Content[idx]=re.sub('[ዖ]','ኦ',cnt)\n",
    "        Content[idx]=re.sub('[ጸ]','ፀ',cnt)\n",
    "        Content[idx]=re.sub('[ጹ]','ፁ',cnt)\n",
    "        Content[idx]=re.sub('[ጺ]','ፂ',cnt)\n",
    "        Content[idx]=re.sub('[ጻ]','ፃ',cnt)\n",
    "        Content[idx]=re.sub('[ጼ]','ፄ',cnt)\n",
    "        Content[idx]=re.sub('[ጽ]','ፅ',cnt)\n",
    "        Content[idx]=re.sub('[ጾ]','ፆ',cnt)\n",
    "  #Normalizing words with Labialized Amharic characters\n",
    "        Content[idx]=re.sub('(ሉ[ዋአ])','ሏ',cnt)\n",
    "        Content[idx]=re.sub('(ሙ[ዋአ])','ሟ',cnt)\n",
    "        Content[idx]=re.sub('(ቱ[ዋአ])','ቷ',cnt)\n",
    "        Content[idx]=re.sub('(ሩ[ዋአ])','ሯ',cnt)\n",
    "        Content[idx]=re.sub('(ሱ[ዋአ])','ሷ',cnt)\n",
    "        Content[idx]=re.sub('(ሹ[ዋአ])','ሿ',cnt)\n",
    "        Content[idx]=re.sub('(ቁ[ዋአ])','ቋ',cnt)\n",
    "        Content[idx]=re.sub('(ቡ[ዋአ])','ቧ',cnt)\n",
    "        Content[idx]=re.sub('(ቹ[ዋአ])','ቿ',cnt)\n",
    "        Content[idx]=re.sub('(ሁ[ዋአ])','ኋ',cnt)\n",
    "        Content[idx]=re.sub('(ኑ[ዋአ])','ኗ',cnt)\n",
    "        Content[idx]=re.sub('(ኙ[ዋአ])','ኟ',cnt)\n",
    "        Content[idx]=re.sub('(ኩ[ዋአ])','ኳ',cnt)\n",
    "        Content[idx]=re.sub('(ዙ[ዋአ])','ዟ',cnt)\n",
    "        Content[idx]=re.sub('(ጉ[ዋአ])','ጓ',cnt)\n",
    "        Content[idx]=re.sub('(ደ[ዋአ])','ዷ',cnt)\n",
    "        Content[idx]=re.sub('(ጡ[ዋአ])','ጧ',cnt)\n",
    "        Content[idx]=re.sub('(ጩ[ዋአ])','ጯ',cnt)\n",
    "        Content[idx]=re.sub('(ጹ[ዋአ])','ጿ',cnt)\n",
    "        Content[idx]=re.sub('(ፉ[ዋአ])','ፏ',cnt)\n",
    "        Content[idx]=re.sub('[ቊ]','ቁ',cnt) \n",
    "        Content[idx]=re.sub('[ኵ]','ኩ',cnt)\n",
    "    return Content"
   ]
  }
 ],
 "metadata": {
  "kernelspec": {
   "display_name": "Python 3",
   "language": "python",
   "name": "python3"
  },
  "language_info": {
   "codemirror_mode": {
    "name": "ipython",
    "version": 3
   },
   "file_extension": ".py",
   "mimetype": "text/x-python",
   "name": "python",
   "nbconvert_exporter": "python",
   "pygments_lexer": "ipython3",
   "version": "3.7.4"
  }
 },
 "nbformat": 4,
 "nbformat_minor": 2
}
