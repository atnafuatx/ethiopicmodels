{
 "cells": [
  {
   "cell_type": "markdown",
   "metadata": {
    "colab_type": "text",
    "id": "view-in-github"
   },
   "source": [
    "<a href=\"https://colab.research.google.com/github/Tadesse-Destaw/Normalization/blob/main/NLP_Preprocessing_and_Normalization.ipynb\" target=\"_parent\"><img src=\"https://colab.research.google.com/assets/colab-badge.svg\" alt=\"Open In Colab\"/></a>"
   ]
  },
  {
   "cell_type": "markdown",
   "metadata": {
    "id": "Lk-54TsjgNLU"
   },
   "source": [
    "# Amharic Text Preprocessing & Tokinization"
   ]
  },
  {
   "cell_type": "code",
   "execution_count": null,
   "metadata": {
    "colab": {
     "base_uri": "https://localhost:8080/"
    },
    "id": "uVO07t2pu-0b",
    "outputId": "6c6baee7-ea7d-47e3-aaa9-952068b282d1"
   },
   "outputs": [
    {
     "name": "stdout",
     "output_type": "stream",
     "text": [
      "Mounted at /content/drive\n"
     ]
    }
   ],
   "source": [
    "from google.colab import drive\n",
    "drive.mount('/content/drive')"
   ]
  },
  {
   "cell_type": "code",
   "execution_count": null,
   "metadata": {
    "id": "nvd09op035BW"
   },
   "outputs": [],
   "source": [
    "import sweetviz\n",
    "import re\n",
    "import random\n",
    "import pandas as pd\n",
    "import warnings\n",
    "import unidecode\n",
    "import numpy as np\n",
    "import glob\n",
    "import csv\n",
    "import emoji\n",
    "from typing import List\n",
    "from flair.data import Token\n",
    "from Levenshtein import distance \n",
    "warnings.filterwarnings('ignore')"
   ]
  },
  {
   "cell_type": "code",
   "execution_count": null,
   "metadata": {
    "id": "q4Zkol-9bT3g"
   },
   "outputs": [],
   "source": [
    "def find_url(string): \n",
    "    text = re.findall('http[s]?://(?:[a-zA-Z]|[0-9]|[$-_@.&+]|[!*\\(\\),]|(?:%[0-9a-fA-F][0-9a-fA-F]))+',string)\n",
    "    return \"\".join(text) # converting return value from list to string"
   ]
  },
  {
   "cell_type": "code",
   "execution_count": null,
   "metadata": {
    "id": "tnGIUSmjZA8d"
   },
   "outputs": [],
   "source": [
    "def remove_url(data):\n",
    "    return data.replace(find_url(data),\"\")"
   ]
  },
  {
   "cell_type": "code",
   "execution_count": null,
   "metadata": {
    "id": "0Jr6YPKBZGDU"
   },
   "outputs": [],
   "source": [
    "def sentence_splitter(news):\n",
    "    #splitters = [\"፡፡\",\"።\",\"?\",\"::\",\"!\"]\n",
    "    sentence = []\n",
    "    sentences = re.split(\"([።?!])\",news)\n",
    "    w = len(sentences)\n",
    "    for i in np.arange(0,w,2):\n",
    "        if(len(\"\".join(sentences[i:i+2])) > 1):\n",
    "            if(\"\".join(sentences[i:i+2])[-1] == \"፡\"):\n",
    "                sentence.append(\"፡\".join(sentences[i:i+2]))\n",
    "            else:\n",
    "                sentence.append(\"\".join(sentences[i:i+2]))\n",
    "    return sentence\n",
    "    "
   ]
  },
  {
   "cell_type": "code",
   "execution_count": null,
   "metadata": {
    "id": "OfXuHExklhva"
   },
   "outputs": [],
   "source": [
    "def remove_English_letters(news):\n",
    "    for idx,cnt in enumerate(news):\n",
    "        news[idx] = re.sub(r'[A-Za-z]','', cnt)  #\\s+\n",
    "    return news\n",
    "def normalize(data):\n",
    "    normal = unicodedata.normalize('NFKD', data).encode('ASCII', 'ignore')\n",
    "    return(normal.decode())"
   ]
  },
  {
   "cell_type": "code",
   "execution_count": null,
   "metadata": {
    "id": "6sWjOiofABCZ"
   },
   "outputs": [],
   "source": [
    "def remove_emoji(news):\n",
    "    for idx,cnt in enumerate(news):\n",
    "        news[idx] = re.sub(r'(:\\S+)(@\\w+)','', cnt)\n",
    "    return news"
   ]
  },
  {
   "cell_type": "code",
   "execution_count": null,
   "metadata": {
    "id": "e_LtUyqGnB53"
   },
   "outputs": [],
   "source": [
    "def duplicated_values_data(data):\n",
    "    dup=[]\n",
    "    columns=data.columns\n",
    "    for i in data.columns:\n",
    "        dup.append(sum(data[i].duplicated()))\n",
    "    return pd.concat([pd.Series(columns),pd.Series(dup)],axis=1,keys=['Columns','Duplicate count'])"
   ]
  },
  {
   "cell_type": "code",
   "execution_count": null,
   "metadata": {
    "colab": {
     "base_uri": "https://localhost:8080/"
    },
    "id": "w0X15p4qZbFr",
    "outputId": "be331b28-a77c-4113-a512-7272bfc8709d"
   },
   "outputs": [
    {
     "name": "stdout",
     "output_type": "stream",
     "text": [
      "Before Removing Duplicated Sentences\n",
      "   Columns  Duplicate count\n",
      "0      URL             2177\n",
      "1     Date            23187\n",
      "2  Content             2518\n",
      "======================================== \n",
      "After Removing Duplicated Sentences\n",
      "   Columns  Duplicate count\n",
      "0      URL              340\n",
      "1     Date            20669\n",
      "2  Content                0\n"
     ]
    }
   ],
   "source": [
    "remove = ['\\xa087','\\n','\\xa0', '|', '/','፤',':','፡','…','፣','«','(',')','\"','“','”','»','-','.',\n",
    "          '@','#','$','%','^','&','*','[',']','{','}',';','›','’','‘','‹','<','>','`','´','~','=','+','፦','፥','፧','፨','፠']\n",
    "May_news_DF = pd.DataFrame()\n",
    "May_news  = glob.glob(\"/content/drive/MyDrive/dataset/news/*.csv\")\n",
    "for news in May_news:\n",
    "    data = pd.read_csv(news, names=[\"ID\",\"URL\",\"Date\",\"Media\",\"Content\"])\n",
    "    #Removing duplicated sentences from Content\n",
    "    data = data[data.Content.duplicated()==False].reset_index()\n",
    "   \n",
    "    for token in remove:\n",
    "        data.Content = data.Content.apply(lambda x: x.replace(token,' ')) \n",
    "    #Removing the url from Content\n",
    "    data.Content = data.Content.apply(lambda x: remove_url(x))\n",
    "    data = data.drop(['index','ID','Media'], axis=1)\n",
    "    #Merging the Dataframes\n",
    "    May_news_DF = pd.concat([May_news_DF,data])\n",
    "\n",
    "print(\"Before Removing Duplicated Sentences\")\n",
    "print(duplicated_values_data(May_news_DF))\n",
    "\n",
    "May_news_DF = May_news_DF[May_news_DF.Content.duplicated()==False].reset_index()\n",
    "May_news_DF = May_news_DF.drop(['index'], axis=1)\n",
    "print(\"=\"*40,\"\\nAfter Removing Duplicated Sentences\")\n",
    "print(duplicated_values_data(May_news_DF))\n",
    "\n",
    "#Splitting the sentences\n",
    "May_news_DF.Content = May_news_DF.Content.apply(lambda x: sentence_splitter(x))\n",
    "#Remove Latin-alphabets from Content \n",
    "May_news_DF.Content = May_news_DF.Content.apply(lambda x: remove_English_letters(x))"
   ]
  },
  {
   "cell_type": "code",
   "execution_count": null,
   "metadata": {
    "colab": {
     "base_uri": "https://localhost:8080/"
    },
    "id": "x32mORWblTT4",
    "outputId": "2b09a46a-782c-4810-9d0c-a54470b05213"
   },
   "outputs": [
    {
     "data": {
      "text/plain": [
       "341551"
      ]
     },
     "execution_count": 12,
     "metadata": {
      "tags": []
     },
     "output_type": "execute_result"
    }
   ],
   "source": [
    "#Number of Sentences\n",
    "Sentence_Number = []\n",
    "for x in May_news_DF.Content:\n",
    "    Sentence_Number.append(len(x))\n",
    "\n",
    "sum(Sentence_Number)"
   ]
  },
  {
   "cell_type": "code",
   "execution_count": null,
   "metadata": {
    "id": "hGCdC9YCajga"
   },
   "outputs": [],
   "source": [
    "May_news_DF.to_csv(\"MayNews.csv\")\n",
    "#May_news_DF.Content.to_csv(\"MayNews_Content.csv\",index=False)\n"
   ]
  },
  {
   "cell_type": "code",
   "execution_count": null,
   "metadata": {
    "id": "TnGnSUuWva-X"
   },
   "outputs": [],
   "source": [
    "#May_news_DF.Content[0]"
   ]
  },
  {
   "cell_type": "markdown",
   "metadata": {
    "id": "bUxQey0--inh"
   },
   "source": [
    "# Generate Homophone words from the corpus\n",
    "\n",
    "\n"
   ]
  },
  {
   "cell_type": "code",
   "execution_count": null,
   "metadata": {
    "id": "OCJQmsCQfF0V"
   },
   "outputs": [],
   "source": [
    "hm1 =['ሀ','ሃ','ኀ','ኃ','ሐ','ሓ']\n",
    "hm2 =['ሁ','ሑ','ኁ']\n",
    "hm3 =['ህ','ሕ','ኅ']\n",
    "hm4 =['ሰ','ሠ']\n",
    "hm5 =['ስ','ሥ']\n",
    "hm6 =['አ','ኣ','ዐ','ዓ']\n",
    "hm7 =['ፀ','ጸ']\n",
    "hm8 =['ፅ','ጽ']"
   ]
  },
  {
   "cell_type": "code",
   "execution_count": null,
   "metadata": {
    "id": "E2hwG9C4Wkfr"
   },
   "outputs": [],
   "source": [
    "df = pd.read_csv(\"MayNews.csv\", index_col=0)\n",
    "df=pd.DataFrame(df)"
   ]
  },
  {
   "cell_type": "code",
   "execution_count": null,
   "metadata": {
    "id": "UJl7E1jJiMv5"
   },
   "outputs": [],
   "source": [
    "#Converting Dataframe to Lists\n",
    "#News = df[df.Content.str.contains('|'.join(hm1))]\n",
    "#News['Content'] = News.Content.apply(lambda x: str(x).split())\n",
    "list_of_words = df['Content'].str.split(' ').to_list()"
   ]
  },
  {
   "cell_type": "code",
   "execution_count": null,
   "metadata": {
    "colab": {
     "base_uri": "https://localhost:8080/"
    },
    "id": "_rb0FCGx2QEl",
    "outputId": "1d1db810-e4c8-49fe-d9c2-414e4e783ef4"
   },
   "outputs": [
    {
     "name": "stdout",
     "output_type": "stream",
     "text": [
      "20673\n"
     ]
    }
   ],
   "source": [
    "print (len(list_of_words))"
   ]
  },
  {
   "cell_type": "code",
   "execution_count": null,
   "metadata": {
    "id": "71_a57xKon_v"
   },
   "outputs": [],
   "source": [
    "#Converting Lists to Pandas Series\n",
    "pd_series = pd.Series(list_of_words)\n",
    "pd_series = pd_series.apply(pd.Series).stack().reset_index(drop = True) \n",
    "series_List = pd_series[pd_series.str.contains('|'.join(hm1))]            #words contains hml only\n"
   ]
  },
  {
   "cell_type": "code",
   "execution_count": null,
   "metadata": {
    "colab": {
     "base_uri": "https://localhost:8080/"
    },
    "id": "2626tXKPN3-X",
    "outputId": "ada14491-fd9b-4e43-a19f-22b5f5ffe7b1"
   },
   "outputs": [
    {
     "data": {
      "text/plain": [
       "24           ሀገር\n",
       "109        በሀገሪቱ\n",
       "138         ፍትሃዊ\n",
       "163          ሀብት\n",
       "223         ሓርነት\n",
       "           ...  \n",
       "9637102     ሐሳብን\n",
       "9637141    ኃላፊነት\n",
       "9637326    የሐሳብን\n",
       "9637352     ሐሳብን\n",
       "9641176     የሐረግ\n",
       "Length: 172287, dtype: object"
      ]
     },
     "execution_count": 17,
     "metadata": {
      "tags": []
     },
     "output_type": "execute_result"
    }
   ],
   "source": [
    "series_List"
   ]
  },
  {
   "cell_type": "code",
   "execution_count": null,
   "metadata": {
    "colab": {
     "base_uri": "https://localhost:8080/"
    },
    "id": "dr7VyhmYv3G3",
    "outputId": "cfa19fe5-82d6-46da-9d6b-e26d3431ceaa"
   },
   "outputs": [
    {
     "name": "stdout",
     "output_type": "stream",
     "text": [
      "12324\n"
     ]
    }
   ],
   "source": [
    "#Remove duplicated Valuees\n",
    "test_words = set(series_List)\n",
    "print (len(test_words))"
   ]
  },
  {
   "cell_type": "code",
   "execution_count": null,
   "metadata": {
    "colab": {
     "base_uri": "https://localhost:8080/",
     "height": 35
    },
    "id": "9Z1n46UKb_by",
    "outputId": "daa20407-8f3f-404b-84da-0a5d17ab8dcf"
   },
   "outputs": [
    {
     "data": {
      "application/vnd.google.colaboratory.intrinsic+json": {
       "type": "string"
      },
      "text/plain": [
       "'ገር'"
      ]
     },
     "execution_count": 19,
     "metadata": {
      "tags": []
     },
     "output_type": "execute_result"
    }
   ],
   "source": [
    "target_word = 'ሀገር'\n",
    "for hm in hm1:\n",
    "  position=target_word.index(hm)\n",
    "  if position >=0:\n",
    "    break\n",
    "target_word[:position] + '' + target_word[position+1:]"
   ]
  },
  {
   "cell_type": "code",
   "execution_count": null,
   "metadata": {
    "colab": {
     "base_uri": "https://localhost:8080/"
    },
    "id": "1M4U9YKOc3d6",
    "outputId": "515055b4-baf7-4c6d-9b50-4afd7e361ccd"
   },
   "outputs": [
    {
     "name": "stdout",
     "output_type": "stream",
     "text": [
      "{'ሀሩር', 'ሀገሩ', 'ሀዛር', 'ከሀገር', 'በሀገር', 'ሀገርም', 'ለሀገር', 'ሀገርን', 'ሀገሯ', 'ሀገርኛ', 'ሀገርዋ', 'ሀገረ', 'ሐገር', 'ሀገያ', 'ዘሀገር', 'ሀረር', 'ሀገ', 'ኃገር', 'ሀር', 'ሀማር', 'የሀገር', 'ሀመር', 'ሀወር', 'ሃገር', 'ሀከር', 'ሀገርህ', 'ሀቶር', 'ሀንገር', 'ሀገር', 'ሀገሬ', 'ሀገገር', 'ሀገርና'}\n"
     ]
    }
   ],
   "source": [
    "words=set()\n",
    "def match(target_word):\n",
    "  for word in test_words:\n",
    "    search_word =word.replace('|'.join(hm1),'')\n",
    "    if distance(target_word, search_word) <=1:\n",
    "      words.add(search_word)\n",
    "match(target_word)       \n",
    "print (words)"
   ]
  },
  {
   "cell_type": "code",
   "execution_count": null,
   "metadata": {
    "colab": {
     "base_uri": "https://localhost:8080/"
    },
    "id": "rpJp5ubjJFWb",
    "outputId": "129969e7-6c84-4874-9ac6-6335ab70b0fb"
   },
   "outputs": [
    {
     "name": "stdout",
     "output_type": "stream",
     "text": [
      "{'ሀር', 'ሐገር', 'ሀገር', 'ሃር', 'ሃገር', 'ሀሩር', 'ሐር', 'ኃገር'}\n"
     ]
    }
   ],
   "source": [
    "from Levenshtein import distance \n",
    "words=set()\n",
    "def match(target_word):\n",
    "    for word in test_words:\n",
    "      if distance(target_word, word) <= 1:\n",
    "        for hom_char in hm1:                                #hm1\n",
    "          target_word =target_word.replace(hom_char,'')\n",
    "          search_word =word.replace(hom_char,'')\n",
    "          if distance(target_word, search_word) <=1:\n",
    "            words.add(word)\n",
    "match(target_word)       \n",
    "print (words) "
   ]
  },
  {
   "cell_type": "code",
   "execution_count": null,
   "metadata": {
    "id": "RnH--ggtP3cP"
   },
   "outputs": [],
   "source": [
    "target_word = 'ሀገር'"
   ]
  },
  {
   "cell_type": "code",
   "execution_count": null,
   "metadata": {
    "colab": {
     "base_uri": "https://localhost:8080/",
     "height": 404
    },
    "id": "3Ve83gnRRAy1",
    "outputId": "c312102b-d281-4bbb-aa7d-84e8d4b24024"
   },
   "outputs": [
    {
     "data": {
      "image/png": "[encoded data removed]",
      "text/plain": [
       "<Figure size 720x432 with 1 Axes>"
      ]
     },
     "metadata": {
      "needs_background": "light",
      "tags": []
     },
     "output_type": "display_data"
    }
   ],
   "source": [
    "import matplotlib.pyplot as plt  \n",
    "series_List1 = pd_series[pd_series.str.contains('ሀ')] \n",
    "ሀ=len(series_List1)\n",
    "series_List2 = pd_series[pd_series.str.contains('ሐ')] \n",
    "ሐ=len(series_List2)\n",
    "series_List3 = pd_series[pd_series.str.contains('ኀ')] \n",
    "ኀ=len(series_List3)\n",
    "series_List4 = pd_series[pd_series.str.contains('ሃ')] \n",
    "ሃ=len(series_List4)\n",
    "series_List5 = pd_series[pd_series.str.contains('ሓ')] \n",
    "ሓ=len(series_List5)\n",
    "series_List6 = pd_series[pd_series.str.contains('ኃ')] \n",
    "ኃ=len(series_List6)\n",
    "data = {}\n",
    "for variable in [\"ሀ\", \"ሐ\", \"ኀ\",\"ሃ\",\"ሓ\",\"ኃ\"]:\n",
    "    data[variable] = eval(variable)\n",
    "import operator\n",
    "sorted_d = sorted(data.items(), key=operator.itemgetter(1))\n",
    "characters = list(data.keys()) \n",
    "no_words = list(data.values()) \n",
    "   \n",
    "fig = plt.figure(figsize = (10, 6)) \n",
    "# creating the bar plot \n",
    "plt.bar(characters, no_words, color ='maroon') \n",
    "  \n",
    "plt.xlabel(\"Homophone (ha) sound characters\") \n",
    "plt.ylabel(\"Frequency of words\") \n",
    "plt.title(\"Distribution of characters in words\") \n",
    "plt.show()"
   ]
  },
  {
   "cell_type": "markdown",
   "metadata": {
    "id": "nK-m1_eAvRjq"
   },
   "source": [
    "##Homophone word Occurance Statistics"
   ]
  },
  {
   "cell_type": "code",
   "execution_count": null,
   "metadata": {
    "colab": {
     "base_uri": "https://localhost:8080/"
    },
    "id": "y-IfUg9E4O1k",
    "outputId": "50ab21f6-2c43-4341-eab0-6c9275af502c"
   },
   "outputs": [
    {
     "name": "stdout",
     "output_type": "stream",
     "text": [
      "1053\n"
     ]
    }
   ],
   "source": [
    "homo_word = 'ሐገር'\n",
    "result = list(filter(lambda x: homo_word in x, series_List))\n",
    "#result = [i for i in series_List if homo_word in i] \n",
    "print (len(result))\n"
   ]
  },
  {
   "cell_type": "markdown",
   "metadata": {
    "id": "0ZjC1Yq5-2IB"
   },
   "source": [
    "## Print homophone words with context (the whole sentence)"
   ]
  },
  {
   "cell_type": "code",
   "execution_count": null,
   "metadata": {
    "id": "9ySSfk1KJim3"
   },
   "outputs": [],
   "source": [
    "df = pd.read_csv(\"MayNews.csv\", index_col=0)\n",
    "#News['Content'] = News.Content.apply(lambda x: str(x).split('([፡፡።?!])'))\n",
    "list_of_sentences = df['Content'].str.split('([፡፡።?!])').to_list()\n",
    "sentences_series = pd.Series(list_of_sentences)\n",
    "sentences_series = sentences_series.apply(pd.Series).stack().reset_index(drop = True) \n",
    "tagret_sentences = sentences_series[sentences_series.str.contains(\"ሐገር\")]\n",
    "#homo_word = df[df.Content.str.contains(\"ድኅነት|ድህነት\")]\n"
   ]
  },
  {
   "cell_type": "code",
   "execution_count": null,
   "metadata": {
    "colab": {
     "base_uri": "https://localhost:8080/"
    },
    "id": "D5iWVeQxKtoX",
    "outputId": "1909c68e-4105-40c6-c4c4-b5ee122cc441"
   },
   "outputs": [
    {
     "data": {
      "text/plain": [
       "2255      ', ' ምክንያቱም ሀገሬው ሁሉ እንደበድን እራሱን መከላከል ሳይችል ቀርቶ...\n",
       "4751                                     ', ' ሐገር አማን ነው ወይ\n",
       "4765      ', ' ለዘመናት ረሀብና ችጋር መሃል ባልገባ እየተጫወተብህ  ጎተራው ሙሉ...\n",
       "4767      ', ' ሐገር ውስጥ አቧራና ትቢያ አማሮህ በሊቢያ አቆራርጠህ  ባህር ማዶ...\n",
       "4769      ', ' የተሾመ ሁሉ ቫንዳም ቫንዳም ሲጫወትብህ  የእድር ዳኛ እንኳ ባቅሙ...\n",
       "                                ...                        \n",
       "650892    ', ' 24 08 09 በወጣትነት ዘመናቸዉ እሁለት የተገመሠ ሐገር ሕዝባቸ...\n",
       "651111    ', ' የሐገር መሪዎችን እንቅስቃሴ መከታተል አይደለም መግደል ማስገደልም...\n",
       "651161    ', ' አሜሪካዊዉ ሠላይ ኤድዋርድ ስኖደን ሐገር መስሪያ ቤቱን ክዶ ከኮበ...\n",
       "651183    ', ' የስለላዉን ድርጅት በበላይነት የሚያስተዳድርና የሚመራዉ ደግሞ የጀ...\n",
       "651185    ', ' የሐገር ዉስጥ ጉዳይ ሚንስትር ሐንስ ፔተር ፍሬድሪሽ ግን የመሪያቸ...\n",
       "Length: 997, dtype: object"
      ]
     },
     "execution_count": 40,
     "metadata": {
      "tags": []
     },
     "output_type": "execute_result"
    }
   ],
   "source": [
    "tagret_sentences"
   ]
  },
  {
   "cell_type": "code",
   "execution_count": null,
   "metadata": {
    "id": "TWuN7MEPhFfN"
   },
   "outputs": [],
   "source": [
    "#homo_word = df[df['Content'].str.contains(\"ድህነት\")]\n",
    "#print(\"ድህነት\", len(homo_word))\n",
    "#ድህነት,ኅብር,ሕብር,ሳለ,ሣለ,ሰረገ,ሠረገ,ሰየመ,ሠየመ"
   ]
  },
  {
   "cell_type": "markdown",
   "metadata": {
    "id": "SbpuMdBpuj26"
   },
   "source": [
    "## Homophone Characters Occurance"
   ]
  },
  {
   "cell_type": "code",
   "execution_count": null,
   "metadata": {
    "colab": {
     "base_uri": "https://localhost:8080/"
    },
    "id": "d6wZ2JdFuiFC",
    "outputId": "7aa3d5cb-00ff-4066-aaee-0bca3e11aa52"
   },
   "outputs": [
    {
     "name": "stdout",
     "output_type": "stream",
     "text": [
      "65735\n"
     ]
    }
   ],
   "source": [
    "#ሀ,ሃ,ኀ,ኃ,ሐ,ህ,ሕ,ኅ,አ,ዐ,ዓ,ሰ,ሠ,ሳ,ሣ,ስ,ሥ,ጸ,ፀ\n",
    "hom_char = 0\n",
    "for item in series_List:\n",
    "    if 'ሃ' in item:\n",
    "        hom_char = hom_char + 1\n",
    "print(hom_char)"
   ]
  },
  {
   "cell_type": "markdown",
   "metadata": {
    "id": "b-F2kQvEpJSc"
   },
   "source": [
    "# Normalize based on frequency"
   ]
  },
  {
   "cell_type": "code",
   "execution_count": null,
   "metadata": {
    "id": "ncX7PN-4j9aw"
   },
   "outputs": [],
   "source": [
    "def normalizef(Content):\n",
    "    for idx,cnt in enumerate(Content):\n",
    "     # if len(homo_word)>len(homo_char_ha)\n",
    "        Content[idx] = re.sub(r'[ሀኀኃሐሓኻ]','ሃ', cnt)\n",
    "        Content[idx] = re.sub(r'[ጸ]','ፀ', cnt)\n",
    "  return Content"
   ]
  },
  {
   "cell_type": "code",
   "execution_count": null,
   "metadata": {
    "id": "Lyl3NrNGkI7q"
   },
   "outputs": [],
   "source": [
    "May_news_DF.Content = May_news_DF.Content.apply(lambda x: normalizef(x))"
   ]
  },
  {
   "cell_type": "markdown",
   "metadata": {
    "id": "UQUk1nmvv7U4"
   },
   "source": [
    "# Normalize based on litrature\n",
    "\n"
   ]
  },
  {
   "cell_type": "code",
   "execution_count": null,
   "metadata": {
    "id": "KzS8lBfNHPff"
   },
   "outputs": [],
   "source": [
    "def normalize(Content):\n",
    "    for idx,cnt in enumerate(Content):\n",
    "        Content[idx] = re.sub(r'[ሃኀኃሐሓኻ]','ሀ', cnt)\n",
    "        Content[idx]=re.sub('[ሑኁዅ]','ሁ',cnt)\n",
    "        Content[idx]=re.sub('[ኂሒኺ]','ሂ',cnt)\n",
    "        Content[idx]=re.sub('[ኌሔዄ]','ሄ',cnt)\n",
    "        Content[idx]=re.sub('[ሕኅ]','ህ',cnt)\n",
    "        Content[idx]=re.sub('[ኆሖኾ]','ሆ',cnt)\n",
    "        Content[idx]=re.sub('[ሠ]','ሰ',cnt)\n",
    "        Content[idx]=re.sub('[ሡ]','ሱ',cnt)\n",
    "        Content[idx]=re.sub('[ሢ]','ሲ',cnt)\n",
    "        Content[idx]=re.sub('[ሣ]','ሳ',cnt)\n",
    "        Content[idx]=re.sub('[ሤ]','ሴ',cnt)\n",
    "        Content[idx]=re.sub('[ሥ]','ስ',cnt)\n",
    "        Content[idx]=re.sub('[ሦ]','ሶ',cnt)\n",
    "        Content[idx]=re.sub('[ዓኣዐ]','አ',cnt)\n",
    "        Content[idx]=re.sub('[ዑ]','ኡ',cnt)\n",
    "        Content[idx]=re.sub('[ዒ]','ኢ',cnt)\n",
    "        Content[idx]=re.sub('[ዔ]','ኤ',cnt)\n",
    "        Content[idx]=re.sub('[ዕ]','እ',cnt)\n",
    "        Content[idx]=re.sub('[ዖ]','ኦ',cnt)\n",
    "        Content[idx]=re.sub('[ጸ]','ፀ',cnt)\n",
    "        Content[idx]=re.sub('[ጹ]','ፁ',cnt)\n",
    "        Content[idx]=re.sub('[ጺ]','ፂ',cnt)\n",
    "        Content[idx]=re.sub('[ጻ]','ፃ',cnt)\n",
    "        Content[idx]=re.sub('[ጼ]','ፄ',cnt)\n",
    "        Content[idx]=re.sub('[ጽ]','ፅ',cnt)\n",
    "        Content[idx]=re.sub('[ጾ]','ፆ',cnt)\n",
    "  #Normalizing words with Labialized Amharic characters\n",
    "        Content[idx]=re.sub('(ሉ[ዋአ])','ሏ',cnt)\n",
    "        Content[idx]=re.sub('(ሙ[ዋአ])','ሟ',cnt)\n",
    "        Content[idx]=re.sub('(ቱ[ዋአ])','ቷ',cnt)\n",
    "        Content[idx]=re.sub('(ሩ[ዋአ])','ሯ',cnt)\n",
    "        Content[idx]=re.sub('(ሱ[ዋአ])','ሷ',cnt)\n",
    "        Content[idx]=re.sub('(ሹ[ዋአ])','ሿ',cnt)\n",
    "        Content[idx]=re.sub('(ቁ[ዋአ])','ቋ',cnt)\n",
    "        Content[idx]=re.sub('(ቡ[ዋአ])','ቧ',cnt)\n",
    "        Content[idx]=re.sub('(ቹ[ዋአ])','ቿ',cnt)\n",
    "        Content[idx]=re.sub('(ሁ[ዋአ])','ኋ',cnt)\n",
    "        Content[idx]=re.sub('(ኑ[ዋአ])','ኗ',cnt)\n",
    "        Content[idx]=re.sub('(ኙ[ዋአ])','ኟ',cnt)\n",
    "        Content[idx]=re.sub('(ኩ[ዋአ])','ኳ',cnt)\n",
    "        Content[idx]=re.sub('(ዙ[ዋአ])','ዟ',cnt)\n",
    "        Content[idx]=re.sub('(ጉ[ዋአ])','ጓ',cnt)\n",
    "        Content[idx]=re.sub('(ደ[ዋአ])','ዷ',cnt)\n",
    "        Content[idx]=re.sub('(ጡ[ዋአ])','ጧ',cnt)\n",
    "        Content[idx]=re.sub('(ጩ[ዋአ])','ጯ',cnt)\n",
    "        Content[idx]=re.sub('(ጹ[ዋአ])','ጿ',cnt)\n",
    "        Content[idx]=re.sub('(ፉ[ዋአ])','ፏ',cnt)\n",
    "        Content[idx]=re.sub('[ቊ]','ቁ',cnt) \n",
    "        Content[idx]=re.sub('[ኵ]','ኩ',cnt)\n",
    "    return Content"
   ]
  },
  {
   "cell_type": "code",
   "execution_count": null,
   "metadata": {
    "id": "0yJy8FzbJ3SF"
   },
   "outputs": [],
   "source": [
    "May_news_DF.Content = May_news_DF.Content.apply(lambda x: normalize(x))\n",
    "#May_news_DF.Content[0:10]"
   ]
  },
  {
   "cell_type": "markdown",
   "metadata": {
    "id": "19nEWNnjd-1z"
   },
   "source": [
    "\n",
    "\n",
    "1.   Read news files (multiple) in a for loop\n",
    "2.   Tokenize and split into sentences (from amahricsemantic models GitHubPage)\n",
    "3. Stat1 - Charcater frequency (homophoe)\n",
    "4. stat2 - Word Frequency\n",
    "5. Normalize based on frequency\n",
    "6. Normalize based on litrature (random or first occurence)\n",
    "7. Indexing using Elasticsearch (check Python API)\n",
    "\n",
    "\n"
   ]
  },
  {
   "cell_type": "markdown",
   "metadata": {
    "id": "9WBkvpebd-R0"
   },
   "source": [
    "1. homo_word = df[df['Content'].str.contains(\"[ሰሠ]ረገ\")]\n",
    "2. new = df[df['content'].apply(lambda x: any([y in x for y in hm1]))]\n",
    "3. new=df[df['content'].str.contains(\"\".join(map(lambda y, x: \"\"+str(x),hm1,\"ሰት\")))]\n",
    "4. filterd_set = df[df['Content'].apply(lambda x: any([y in x for y in target_char]))]\n",
    "\n",
    "\n",
    "\n"
   ]
  }
 ],
 "metadata": {
  "colab": {
   "collapsed_sections": [],
   "include_colab_link": true,
   "name": "NLP Preprocessing and Normalization.ipynb",
   "provenance": []
  },
  "kernelspec": {
   "display_name": "Python 3",
   "language": "python",
   "name": "python3"
  },
  "language_info": {
   "codemirror_mode": {
    "name": "ipython",
    "version": 3
   },
   "file_extension": ".py",
   "mimetype": "text/x-python",
   "name": "python",
   "nbconvert_exporter": "python",
   "pygments_lexer": "ipython3",
   "version": "3.7.4"
  }
 },
 "nbformat": 4,
 "nbformat_minor": 1
}
