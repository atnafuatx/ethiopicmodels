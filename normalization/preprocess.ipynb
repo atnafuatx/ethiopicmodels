{
 "cells": [
  {
   "cell_type": "code",
   "execution_count": null,
   "metadata": {},
   "outputs": [],
   "source": [
    "!which python"
   ]
  },
  {
   "cell_type": "code",
   "execution_count": null,
   "metadata": {},
   "outputs": [],
   "source": [
    "import re\n",
    "import random\n",
    "import warnings\n",
    "import unidecode\n",
    "\n",
    "import numpy as np\n",
    "import pandas as pd\n",
    "import csv\n",
    "from typing import List\n",
    "from Levenshtein import distance \n",
    "import import_ipynb\n",
    "import matplotlib.pyplot as plt\n",
    "import sys\n",
    "sys.path.append('../')\n",
    "from preprocessing.amharicSegmenter import AmharicSegmenter\n",
    "from normalizer import normalize\n",
    "warnings.filterwarnings('ignore')"
   ]
  },
  {
   "cell_type": "code",
   "execution_count": null,
   "metadata": {},
   "outputs": [],
   "source": [
    "sent_punct = []\n",
    "word_punct = []\n",
    "amseg = AmharicSegmenter(sent_punct,word_punct)"
   ]
  },
  {
   "cell_type": "code",
   "execution_count": null,
   "metadata": {},
   "outputs": [],
   "source": [
    "import os\n",
    "all_tokens =[]\n",
    "for root, dirs, files in os.walk('processed/'):\n",
    "    for file in files:\n",
    "        with open(\"processed/\" + file, \"r\",encoding=\"utf-8\") as f:\n",
    "            all_tokens += f.read().split(' ')\n",
    "        #all_tokens += all_tokens\n",
    "\n",
    "        all_unique_tokens = set(all_tokens)\n",
    "print(\"All Tokens =\",len(all_tokens))\n",
    "print(\"Unique Tokens =\",len(all_unique_tokens))\n"
   ]
  },
  {
   "cell_type": "code",
   "execution_count": null,
   "metadata": {},
   "outputs": [],
   "source": [
    "All Tokens = 4719782\n",
    "Unique Tokens = 530659"
   ]
  },
  {
   "cell_type": "code",
   "execution_count": null,
   "metadata": {},
   "outputs": [],
   "source": []
  },
  {
   "cell_type": "code",
   "execution_count": null,
   "metadata": {},
   "outputs": [],
   "source": [
    "AM = ['ሀ','ሁ','ሂ','ሃ','ሄ','ህ','ሆ','ለ','ሉ','ሊ','ላ','ሌ','ል','ሎ','ሐ','ሑ','ሒ','ሓ','ሔ','ሕ','ሖ',\n",
    "      'መ','ሙ','ሚ','ማ','ሜ','ም','ሞ','ሠ','ሡ','ሢ','ሣ','ሤ','ሥ','ሦ','ረ','ሩ','ሪ','ራ','ሬ','ር','ሮ',\n",
    "      'ሰ','ሱ','ሲ','ሳ','ሴ','ስ','ሶ','ሸ','ሹ','ሺ','ሻ','ሼ','ሽ','ሾ','ቀ','ቁ','ቂ','ቃ','ቄ','ቅ','ቆ',\n",
    "      'በ','ቡ','ቢ','ባ','ቤ','ብ','ቦ','ቨ','ቩ','ቪ','ቫ','ቬ','ቭ','ቮ','ተ','ቱ','ቲ','ታ','ቴ','ት','ቶ',\n",
    "      'ቸ','ቹ','ቺ','ቻ','ቼ','ች','ቾ','ኀ','ኁ','ኂ','ኃ','ኄ','ኅ','ኆ','ነ','ኑ','ኒ','ና','ኔ''ን','ኖ',\n",
    "      'ኘ','ኙ','ኚ','ኛ','ኜ','ኝ','ኞ','አ','ኡ','ኢ','ኣ','ኤ','እ','ኦ','ከ','ኩ','ኪ','ካ','ኬ','ክ','ኮ',\n",
    "      'ኸ','ኹ','ኺ','ኻ','ኼ','ኽ','ኾ','ወ','ዉ','ዊ','ዋ','ዌ','ው','ዎ','ዐ','ዑ','ዒ','ዓ','ዔ','ዕ','ዖ',\n",
    "      'ዘ','ዙ','ዚ','ዛ','ዜ','ዝ','ዞ','ዠ','ዡ','ዢ','ዣ','ዤ','ዥ','ዦ','የ','ዩ','ዪ','ያ','ዬ','ይ','ዮ',\n",
    "      'ደ','ዱ','ዲ','ዳ','ዴ','ድ','ዶ','ጀ','ጁ','ጂ','ጃ','ጄ','ጅ','ጆ','ገ','ጉ','ጊ','ጋ','ጌ','ግ','ጎ',\n",
    "      'ጠ','ጡ','ጢ','ጣ','ጤ','ጥ','ጦ','ጨ','ጩ','ጪ','ጫ','ጬ','ጭ','ጮ','ጰ','ጱ','ጲ','ጳ','ጴ','ጵ','ጶ',\n",
    "      'ጸ','ጹ','ጺ','ጻ','ጼ','ጽ','ጾ','ፀ','ፁ','ፂ','ፃ','ፄ','ፅ','ፆ','ፈ','ፉ','ፊ','ፋ','ፌ','ፍ','ፎ',\n",
    "      'ፐ','ፑ','ፒ','ፓ','ፔ','ፕ','ፖ']"
   ]
  },
  {
   "cell_type": "code",
   "execution_count": null,
   "metadata": {},
   "outputs": [],
   "source": [
    "len(AM)"
   ]
  },
  {
   "cell_type": "code",
   "execution_count": null,
   "metadata": {},
   "outputs": [],
   "source": [
    "homo_char1 =['ሀ','ሁ', 'ሂ', 'ሃ', 'ሄ', 'ህ', 'ሆ', 'ሐ', 'ሑ', 'ሒ', 'ሓ', 'ሔ', 'ሕ', 'ሖ', \n",
    "               'ኀ', 'ኁ', 'ኂ', 'ኃ', 'ኄ', 'ኅ', 'ኆ', 'ኸ', 'ኹ', 'ኺ', 'ኻ', 'ኼ', 'ኽ', 'ኾ', \n",
    "               'አ', 'ኡ', 'ኢ', 'ኣ', 'ኤ', 'እ', 'ኦ', 'ዐ', 'ዑ', 'ዒ', 'ዓ', 'ዔ', 'ዕ', 'ዖ', \n",
    "               'ሰ', 'ሱ', 'ሲ', 'ሳ', 'ሴ', 'ስ', 'ሶ', 'ሠ', 'ሡ', 'ሢ', 'ሣ', 'ሤ', 'ሥ', 'ሦ', \n",
    "               'ጸ', 'ጹ', 'ጺ', 'ጻ', 'ጼ', 'ጽ', 'ጾ', 'ፀ', 'ፁ', 'ፂ', 'ፃ', 'ፄ', 'ፅ', 'ፆ','ሗ','ኋ', 'ዃ']"
   ]
  },
  {
   "cell_type": "code",
   "execution_count": null,
   "metadata": {},
   "outputs": [],
   "source": [
    "homo_char2 = ['ሸ','ሼ','ሺ','ሽ','ቸ','ቼ','ቺ','ች','ኘ','ኜ','ኚ','ኝ','ወ','ዎ','ዉ','ው','ዠ','ዤ','ዢ','ዥ',\n",
    "                 'የ','ዬ','ዪ','ይ','ጀ','ጄ','ጂ','ጅ','ጨ','ጬ','ጪ','ጭ','ደ', 'ዴ', 'ድ', 'ዲ']"
   ]
  },
  {
   "cell_type": "markdown",
   "metadata": {},
   "source": [
    "# Dictionary of all tokens with frequency"
   ]
  },
  {
   "cell_type": "code",
   "execution_count": null,
   "metadata": {},
   "outputs": [],
   "source": [
    "#frequency of all tokens\n",
    "freq_tokens = {}\n",
    "for t in all_tokens:\n",
    "    freq_tokens[t] = freq_tokens.get(t, 0) + 1"
   ]
  },
  {
   "cell_type": "code",
   "execution_count": null,
   "metadata": {},
   "outputs": [],
   "source": [
    "#frequency tokens that contain homophone character\n",
    "homo_tokens = {}\n",
    "for k,v in freq_tokens.items():\n",
    "    for hm in homo_char1:\n",
    "        if hm in k:\n",
    "            homo_tokens[k]=v"
   ]
  },
  {
   "cell_type": "code",
   "execution_count": null,
   "metadata": {},
   "outputs": [],
   "source": [
    "#frequency of top 50 homophone tokens\n",
    "homo_tokens_top=dict(sorted(homo_tokens.items(), key=lambda item: item[1],reverse=True)[:50])\n",
    "homo_tokens_top"
   ]
  },
  {
   "cell_type": "markdown",
   "metadata": {},
   "source": [
    "# Homophone character frequency"
   ]
  },
  {
   "cell_type": "code",
   "execution_count": null,
   "metadata": {},
   "outputs": [],
   "source": [
    "#homo_char1 =['ሀ','ሁ', 'ሂ', 'ሃ', 'ሄ', 'ህ', 'ሆ', 'ሐ', 'ሑ',...]\n",
    "frq_homo_char={}\n",
    "for h in homo_char1:\n",
    "    hm=(len([w for w in all_tokens if h in w]))\n",
    "    frq_homo_char[h] =hm\n",
    "#print in sorted order\n",
    "#frq_homo_char=dict(sorted(frq_homo_char.items(), key=lambda item: item[1],reverse=True))\n",
    "frq_homo_char"
   ]
  },
  {
   "cell_type": "code",
   "execution_count": null,
   "metadata": {},
   "outputs": [],
   "source": [
    "#homo_char2 = ['ሸ','ሼ','ሺ','ሽ','ቸ','ቼ','ቺ','ች','ኘ','ኜ',...]\n",
    "frq_homo_char2={}\n",
    "for h in homo_char2:\n",
    "    hm=(len([w for w in all_tokens if h in w]))\n",
    "    frq_homo_char2[h] =hm\n",
    "frq_homo_char2"
   ]
  },
  {
   "cell_type": "markdown",
   "metadata": {},
   "source": [
    "# Amharic Fidelat statistics"
   ]
  },
  {
   "cell_type": "code",
   "execution_count": null,
   "metadata": {},
   "outputs": [],
   "source": [
    "frq_char={}\n",
    "for c in AM:\n",
    "    amc=(len([w for w in all_tokens if c in w]))\n",
    "    frq_char[c] =amc\n",
    "#print Top sorted 30 \n",
    "frq_char_top=dict(sorted(frq_char.items(), key=lambda item: item[1],reverse=True)[:40])\n",
    "frq_char_top"
   ]
  },
  {
   "cell_type": "code",
   "execution_count": null,
   "metadata": {},
   "outputs": [],
   "source": []
  },
  {
   "cell_type": "markdown",
   "metadata": {},
   "source": [
    "# graphical representation"
   ]
  },
  {
   "cell_type": "code",
   "execution_count": null,
   "metadata": {},
   "outputs": [],
   "source": [
    "import matplotlib.pyplot as plt\n",
    "import matplotlib.font_manager as fm\n",
    "dpi=300\n",
    "plt.figure(figsize=(8, 6), edgecolor='black', linewidth=0.5)\n",
    "prop = fm.FontProperties(fname='AbyssinicaSIL-Regular.ttf', weight='bold')\n",
    "#prop = fm.FontProperties(fname='Chiret-Regular.ttf', weight='bold')"
   ]
  },
  {
   "cell_type": "code",
   "execution_count": null,
   "metadata": {},
   "outputs": [],
   "source": [
    "#homo_char1 =['ሀ','ሁ', 'ሂ', 'ሃ', 'ሄ', 'ህ', 'ሆ', 'ሐ', 'ሑ',...]\n",
    "sorted_dict = dict( sorted(frq_homo_char.items(),key=lambda item: item[1]))\n",
    "f, ax = plt.subplots(figsize=(12,13))\n",
    "plt.barh(*zip(*sorted_dict.items()))\n",
    "plt.yticks(fontproperties=prop, fontsize = 12)#ha='center',\n",
    "#plt.title(\"Homophone character Statistics from the data set\", size=16)\n",
    "plt.ylabel(\"Homophone characters\", size=16)\n",
    "plt.xlabel(\"Number of occurances in thousands\", size=16)\n",
    "plt.margins(y=0)\n",
    "plt.show()"
   ]
  },
  {
   "cell_type": "code",
   "execution_count": null,
   "metadata": {},
   "outputs": [],
   "source": []
  },
  {
   "cell_type": "code",
   "execution_count": null,
   "metadata": {},
   "outputs": [],
   "source": [
    "#homo_char2 = ['ሸ','ሼ','ሺ','ሽ','ቸ','ቼ','ቺ','ች','ኘ','ኜ',...]\n",
    "sorted_dict2 = dict( sorted(frq_homo_char2.items(),key=lambda item: item[1]))\n",
    "f, ax = plt.subplots(figsize=(14,6))\n",
    "plt.barh(*zip(*sorted_dict2.items()),color='red',label='A')\n",
    "plt.yticks(fontproperties=prop, fontsize = 12)\n",
    "#plt.title(\"Character Statistics from the data set\", size=16)\n",
    "plt.ylabel(\"Characters\", size=16)\n",
    "plt.xlabel(\"Number of occurances in thousands\", size=16)\n",
    "plt.margins(y=0)\n",
    "plt.show()"
   ]
  },
  {
   "cell_type": "code",
   "execution_count": null,
   "metadata": {},
   "outputs": [],
   "source": []
  },
  {
   "cell_type": "code",
   "execution_count": null,
   "metadata": {},
   "outputs": [],
   "source": [
    "homo_tokens_top=dict(sorted(homo_tokens.items(), key=lambda item: item[1],reverse=True)[:50])\n",
    "\n",
    "sorted_dict3 = dict( sorted(homo_tokens_top.items(),key=lambda item: item[1]))\n",
    "f, ax = plt.subplots(figsize=(20,10))\n",
    "plt.barh(*zip(*sorted_dict3.items()),color='orange')\n",
    "plt.yticks(fontproperties=prop,  fontsize = 12)\n",
    "plt.ylabel(\"Top words\", size=16)\n",
    "plt.xlabel(\"Number of occurances in thousands\", size=16)\n",
    "plt.margins(y=0)\n",
    "plt.show()"
   ]
  },
  {
   "cell_type": "code",
   "execution_count": null,
   "metadata": {},
   "outputs": [],
   "source": []
  },
  {
   "cell_type": "markdown",
   "metadata": {},
   "source": [
    "# frequency of  homophone words"
   ]
  },
  {
   "cell_type": "code",
   "execution_count": null,
   "metadata": {},
   "outputs": [],
   "source": []
  },
  {
   "cell_type": "code",
   "execution_count": null,
   "metadata": {},
   "outputs": [],
   "source": [
    "h1 = ['ሀ', 'ሐ', 'ኀ', 'ሃ', 'ሓ', 'ኃ', 'ኻ']\n",
    "h2 = ['ሁ', 'ሑ', 'ኁ', 'ኹ']\n",
    "h3 = ['ሂ', 'ሒ', 'ኂ', 'ኺ']\n",
    "h4 = ['ሄ', 'ሔ', 'ኄ', 'ኼ']\n",
    "h5 = ['ህ', 'ሕ', 'ኅ', 'ኽ']\n",
    "h7 = ['ሆ', 'ሖ', 'ኆ', 'ኾ']\n",
    "a1 = ['አ', 'ኣ', 'ዐ', 'ዓ']\n",
    "a2 = ['ኡ', 'ዑ']\n",
    "a3 = ['ኢ', 'ዒ']\n",
    "a4 = ['ኤ', 'ዔ']\n",
    "a5 = ['እ', 'ዕ']\n",
    "a7 = ['ኦ', 'ዖ']\n",
    "s1 = ['ሰ', 'ሠ']\n",
    "s2 = ['ሱ', 'ሡ']\n",
    "s3 = ['ሲ', 'ሢ']\n",
    "s4 = ['ሳ', 'ሣ']\n",
    "s5 = ['ሴ', 'ሤ']\n",
    "s6 = ['ስ', 'ሥ']\n",
    "s7 = ['ሶ', 'ሦ']\n",
    "ts1 = ['ጸ', 'ፀ']\n",
    "ts2 = ['ጹ', 'ፁ']\n",
    "ts3 = ['ጺ', 'ፂ']\n",
    "ts4 = ['ጻ', 'ፃ']\n",
    "ts5 = ['ጼ', 'ፄ']\n",
    "ts6 = ['ጽ', 'ፅ']\n",
    "ts7 = ['ጾ', 'ፆ']\n",
    "homo = [h1,h2,h3,h4,h5,h7,a1,a2,a3,a4,a5,a7,s1,s2,s3,s4,s5,s6,s7,ts1,ts2,ts3,ts4,ts5,ts6,ts7]"
   ]
  },
  {
   "cell_type": "code",
   "execution_count": null,
   "metadata": {},
   "outputs": [],
   "source": []
  },
  {
   "cell_type": "code",
   "execution_count": null,
   "metadata": {},
   "outputs": [],
   "source": [
    "homo_tokens_top=dict(sorted(homo_tokens.items(), key=lambda item: item[1],reverse=True)[:1000])"
   ]
  },
  {
   "cell_type": "code",
   "execution_count": null,
   "metadata": {},
   "outputs": [],
   "source": [
    "frq_homo_wrd1 ={}\n",
    "count=0\n",
    "for word in homo_tokens_top:\n",
    "    count +=1\n",
    "    if count%1000==0:\n",
    "        print(count)\n",
    "    for ho in homo:\n",
    "        for h in ho:\n",
    "            if h in word:\n",
    "                hm=(len([m for m in homo_tokens if word in m ]))\n",
    "                frq_homo_wrd1[word] =hm \n",
    "                for h2 in ho:\n",
    "                    if h2 == h:\n",
    "                        continue\n",
    "                    w = word.replace(h,h2)\n",
    "                    hm=(len([m for m in homo_tokens if w in m ]))\n",
    "                    frq_homo_wrd1[w] =hm\n",
    "\n"
   ]
  },
  {
   "cell_type": "code",
   "execution_count": null,
   "metadata": {},
   "outputs": [],
   "source": [
    "frq_homo_wrd1"
   ]
  },
  {
   "cell_type": "code",
   "execution_count": null,
   "metadata": {},
   "outputs": [],
   "source": []
  }
 ],
 "metadata": {
  "kernelspec": {
   "display_name": "Python 3",
   "language": "python",
   "name": "python3"
  },
  "language_info": {
   "codemirror_mode": {
    "name": "ipython",
    "version": 3
   },
   "file_extension": ".py",
   "mimetype": "text/x-python",
   "name": "python",
   "nbconvert_exporter": "python",
   "pygments_lexer": "ipython3",
   "version": "3.7.4"
  },
  "toc": {
   "base_numbering": 1,
   "nav_menu": {},
   "number_sections": true,
   "sideBar": true,
   "skip_h1_title": false,
   "title_cell": "Table of Contents",
   "title_sidebar": "Contents",
   "toc_cell": false,
   "toc_position": {},
   "toc_section_display": true,
   "toc_window_display": false
  }
 },
 "nbformat": 4,
 "nbformat_minor": 2
}
