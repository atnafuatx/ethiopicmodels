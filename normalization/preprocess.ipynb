{
 "cells": [
  {
   "cell_type": "code",
   "execution_count": 2,
   "metadata": {},
   "outputs": [
    {
     "name": "stdout",
     "output_type": "stream",
     "text": [
      "/home/yimam/anaconda3/bin/python\r\n"
     ]
    }
   ],
   "source": [
    "!which python"
   ]
  },
  {
   "cell_type": "code",
   "execution_count": 1,
   "metadata": {},
   "outputs": [
    {
     "name": "stdout",
     "output_type": "stream",
     "text": [
      "importing Jupyter notebook from normalizer.ipynb\n"
     ]
    }
   ],
   "source": [
    "import re\n",
    "import random\n",
    "import warnings\n",
    "import unidecode\n",
    "import numpy as np\n",
    "import pandas as pd\n",
    "import csv\n",
    "from typing import List\n",
    "from Levenshtein import distance \n",
    "import import_ipynb\n",
    "import matplotlib.pyplot as plt\n",
    "import sys\n",
    "sys.path.append('../')\n",
    "from preprocessing.amharicSegmenter import AmharicSegmenter\n",
    "from normalizer import normalize\n",
    "warnings.filterwarnings('ignore')"
   ]
  },
  {
   "cell_type": "code",
   "execution_count": 2,
   "metadata": {},
   "outputs": [],
   "source": [
    "sent_punct = []\n",
    "word_punct = []\n",
    "amseg = AmharicSegmenter(sent_punct,word_punct)"
   ]
  },
  {
   "cell_type": "code",
   "execution_count": 6,
   "metadata": {},
   "outputs": [
    {
     "name": "stdout",
     "output_type": "stream",
     "text": [
      "16184314 836960\n",
      "926\n",
      "35138883 1446265\n",
      "722\n",
      "27261275 1420480\n",
      "171493\n"
     ]
    }
   ],
   "source": [
    "import os\n",
    "for root, dirs, files in os.walk('processed/'):\n",
    "    for file in files:\n",
    "        with open(\"processed/\" + file, \"r\",encoding=\"utf-8\") as f:\n",
    "            tokens = f.read().split()\n",
    "#            tokens = amseg.amharic_tokenizer(content)\n",
    "#            tokens = [token.text for token in tokens]\n",
    "            utokens = set(tokens)\n",
    "\n",
    "            print(len(tokens),len(utokens))\n",
    "            print (tokens.count(tokens[1]))\n"
   ]
  },
  {
   "cell_type": "code",
   "execution_count": 7,
   "metadata": {},
   "outputs": [],
   "source": [
    "with open('amstopwords.txt', 'r',encoding=\"utf-8\") as f:\n",
    "    stop_word_list = f.read().splitlines()\n",
    "stopword_free_tokens={}\n",
    "stopword_free_tokens=[x for x in tokens if x not in stop_word_list]"
   ]
  },
  {
   "cell_type": "code",
   "execution_count": null,
   "metadata": {},
   "outputs": [],
   "source": [
    "#stopword_free_tokens"
   ]
  },
  {
   "cell_type": "code",
   "execution_count": 8,
   "metadata": {},
   "outputs": [],
   "source": [
    "hm1 =['ሀ','ሁ', 'ሂ', 'ሃ', 'ሄ', 'ህ', 'ሆ', 'ሐ', 'ሑ', 'ሒ', 'ሓ', 'ሔ', 'ሕ', 'ሖ', \n",
    "               'ኀ', 'ኁ', 'ኂ', 'ኃ', 'ኄ', 'ኅ', 'ኆ', 'ኸ', 'ኹ', 'ኺ', 'ኻ', 'ኼ', 'ኽ', 'ኾ', \n",
    "               'አ', 'ኡ', 'ኢ', 'ኣ', 'ኤ', 'እ', 'ኦ', 'ዐ', 'ዑ', 'ዒ', 'ዓ', 'ዔ', 'ዕ', 'ዖ', \n",
    "               'ሰ', 'ሱ', 'ሲ', 'ሳ', 'ሴ', 'ስ', 'ሶ', 'ሠ', 'ሡ', 'ሢ', 'ሣ', 'ሤ', 'ሥ', 'ሦ', \n",
    "               'ጸ', 'ጹ', 'ጺ', 'ጻ', 'ጼ', 'ጽ', 'ጾ', 'ፀ', 'ፁ', 'ፂ', 'ፃ', 'ፄ', 'ፅ', 'ፆ' ]"
   ]
  },
  {
   "cell_type": "code",
   "execution_count": null,
   "metadata": {},
   "outputs": [],
   "source": []
  },
  {
   "cell_type": "markdown",
   "metadata": {},
   "source": [
    "# Dictionary of words with frequency"
   ]
  },
  {
   "cell_type": "code",
   "execution_count": 9,
   "metadata": {},
   "outputs": [],
   "source": [
    "freq_tokens = {}\n",
    "for t in stopword_free_tokens:\n",
    "    freq_tokens[t] = freq_tokens.get(t, 0) + 1"
   ]
  },
  {
   "cell_type": "code",
   "execution_count": 10,
   "metadata": {},
   "outputs": [],
   "source": [
    "htokens = {}\n",
    "for k,v in freq_tokens.items():\n",
    "    for hm in hm1:\n",
    "        if hm in k:\n",
    "            htokens[k]=v"
   ]
  },
  {
   "cell_type": "code",
   "execution_count": 12,
   "metadata": {},
   "outputs": [],
   "source": [
    "homo_top=dict(sorted(htokens.items(), key=lambda item: item[1],reverse=True)[:20])"
   ]
  },
  {
   "cell_type": "code",
   "execution_count": 13,
   "metadata": {},
   "outputs": [
    {
     "data": {
      "text/plain": [
       "{'ሰው': 97784,\n",
       " 'ህዝብ': 60945,\n",
       " 'አዲስ': 47781,\n",
       " 'ሰዎች': 46510,\n",
       " 'አበባ': 45644,\n",
       " 'መንግስት': 44000,\n",
       " 'እንኳን': 42172,\n",
       " 'እንዴት': 35736,\n",
       " 'አብይ': 35448,\n",
       " 'ሀገር': 33540,\n",
       " 'ስራ': 28096,\n",
       " 'አማራ': 27222,\n",
       " 'እንዲህ': 27090,\n",
       " 'አመት': 25659,\n",
       " 'የአማራ': 23455,\n",
       " 'ዓመት': 21102,\n",
       " 'ሁሉም': 20814,\n",
       " 'አገር': 20659,\n",
       " 'በኢትዮጵያ': 20591,\n",
       " 'እግዚአብሔር': 20360}"
      ]
     },
     "execution_count": 13,
     "metadata": {},
     "output_type": "execute_result"
    }
   ],
   "source": [
    "homo_top"
   ]
  },
  {
   "cell_type": "code",
   "execution_count": null,
   "metadata": {},
   "outputs": [],
   "source": [
    "#print top homophone character contained words\n",
    "#homo_top  \n",
    "#plt.bar(*zip(*homo_top.items()))\n",
    "#plt.show()"
   ]
  },
  {
   "cell_type": "markdown",
   "metadata": {},
   "source": [
    "# Homophone character statistics"
   ]
  },
  {
   "cell_type": "code",
   "execution_count": 14,
   "metadata": {},
   "outputs": [],
   "source": [
    "frq_homo_char={}\n",
    "for h in hm1:\n",
    "    hm=(len([w for w in stopword_free_tokens if h in w]))\n",
    "    frq_homo_char[h] =hm\n",
    "#frq_homo_char"
   ]
  },
  {
   "cell_type": "code",
   "execution_count": 15,
   "metadata": {},
   "outputs": [
    {
     "data": {
      "text/plain": [
       "{'ሀ': 252040,\n",
       " 'ሁ': 483848,\n",
       " 'ሂ': 27388,\n",
       " 'ሃ': 237880,\n",
       " 'ሄ': 132870,\n",
       " 'ህ': 974987,\n",
       " 'ሆ': 375386,\n",
       " 'ሐ': 61445,\n",
       " 'ሑ': 3259,\n",
       " 'ሒ': 2759,\n",
       " 'ሓ': 24232,\n",
       " 'ሔ': 66737,\n",
       " 'ሕ': 95955,\n",
       " 'ሖ': 354,\n",
       " 'ኀ': 1964,\n",
       " 'ኁ': 146,\n",
       " 'ኂ': 73,\n",
       " 'ኃ': 47640,\n",
       " 'ኄ': 333,\n",
       " 'ኅ': 12071,\n",
       " 'ኆ': 88,\n",
       " 'ኸ': 17499,\n",
       " 'ኹ': 2168,\n",
       " 'ኺ': 334,\n",
       " 'ኻ': 1802,\n",
       " 'ኼ': 2480,\n",
       " 'ኽ': 4670,\n",
       " 'ኾ': 2032,\n",
       " 'አ': 2736530,\n",
       " 'ኡ': 16449,\n",
       " 'ኢ': 273894,\n",
       " 'ኣ': 66353,\n",
       " 'ኤ': 99043,\n",
       " 'እ': 1771423,\n",
       " 'ኦ': 133481,\n",
       " 'ዐ': 23568,\n",
       " 'ዑ': 7527,\n",
       " 'ዒ': 2018,\n",
       " 'ዓ': 150380,\n",
       " 'ዔ': 3404,\n",
       " 'ዕ': 103707,\n",
       " 'ዖ': 2109,\n",
       " 'ሰ': 1137332,\n",
       " 'ሱ': 234282,\n",
       " 'ሲ': 257246,\n",
       " 'ሳ': 594066,\n",
       " 'ሴ': 96536,\n",
       " 'ስ': 2207487,\n",
       " 'ሶ': 84887,\n",
       " 'ሠ': 48878,\n",
       " 'ሡ': 2230,\n",
       " 'ሢ': 1077,\n",
       " 'ሣ': 13608,\n",
       " 'ሤ': 733,\n",
       " 'ሥ': 82292,\n",
       " 'ሦ': 5080,\n",
       " 'ጸ': 33263,\n",
       " 'ጹ': 10227,\n",
       " 'ጺ': 1249,\n",
       " 'ጻ': 26792,\n",
       " 'ጼ': 1560,\n",
       " 'ጽ': 65478,\n",
       " 'ጾ': 3826,\n",
       " 'ፀ': 70687,\n",
       " 'ፁ': 19748,\n",
       " 'ፂ': 3237,\n",
       " 'ፃ': 59122,\n",
       " 'ፄ': 4720,\n",
       " 'ፅ': 99335,\n",
       " 'ፆ': 7123}"
      ]
     },
     "execution_count": 15,
     "metadata": {},
     "output_type": "execute_result"
    }
   ],
   "source": [
    "frq_homo_char"
   ]
  },
  {
   "cell_type": "code",
   "execution_count": 50,
   "metadata": {},
   "outputs": [
    {
     "data": {
      "text/plain": [
       "<Figure size 576x432 with 0 Axes>"
      ]
     },
     "metadata": {},
     "output_type": "display_data"
    }
   ],
   "source": [
    "import matplotlib.pyplot as plt\n",
    "import matplotlib.font_manager as fm\n",
    "dpi=300\n",
    "plt.figure(figsize=(8, 6), edgecolor='black', linewidth=2)\n",
    "prop = fm.FontProperties(fname='AbyssinicaSIL-Regular.ttf', weight='bold')\n",
    "#prop = fm.FontProperties(fname='Chiret-Regular.ttf', weight='bold')\n",
    "\n"
   ]
  },
  {
   "cell_type": "code",
   "execution_count": 51,
   "metadata": {
    "scrolled": false
   },
   "outputs": [
    {
     "data": {
      "image/png": "[encoded data removed]",
      "text/plain": [
       "<Figure size 1440x864 with 1 Axes>"
      ]
     },
     "metadata": {
      "needs_background": "light"
     },
     "output_type": "display_data"
    }
   ],
   "source": [
    "f, ax = plt.subplots(figsize=(20,12))\n",
    "plt.bar(*zip(*frq_homo_char.items()))\n",
    "plt.xticks(fontproperties=prop, ha='center', fontsize = 16)\n",
    "plt.show()"
   ]
  },
  {
   "cell_type": "code",
   "execution_count": null,
   "metadata": {},
   "outputs": [],
   "source": []
  },
  {
   "cell_type": "markdown",
   "metadata": {},
   "source": [
    "# frequency based normalization"
   ]
  },
  {
   "cell_type": "code",
   "execution_count": null,
   "metadata": {},
   "outputs": [],
   "source": [
    "#tokens list normalization\n",
    "def fnormalize (tokens):\n",
    "    tokens = [item.replace(\"ሃ\", \"ሀ\") for item in tokens]\n",
    "    tokens = [item.replace(\"ሐ\", \"ሀ\") for item in tokens]\n",
    "    tokens = [item.replace(\"ሓ\", \"ሀ\") for item in tokens]\n",
    "    tokens = [item.replace(\"ኃ\", \"ሀ\") for item in tokens]\n",
    "    tokens = [item.replace(\"ኻ\", \"ሀ\") for item in tokens]\n",
    "    tokens = [item.replace(\"ሑ\", \"ሁ\") for item in tokens]\n",
    "    tokens = [item.replace(\"ኁ\", \"ሁ\") for item in tokens]\n",
    "    tokens = [item.replace(\"ሑ\", \"ሁ\") for item in tokens]\n",
    "    tokens = [item.replace(\"ኂ\", \"ሂ\") for item in tokens]\n",
    "    tokens = [item.replace(\"ሒ\", \"ሂ\") for item in tokens]\n",
    "    tokens = [item.replace(\"ኄ\", \"ሄ\") for item in tokens]\n",
    "    tokens = [item.replace(\"ዄ\", \"ሄ\") for item in tokens]\n",
    "    tokens = [item.replace(\"ሔ\", \"ሄ\") for item in tokens]\n",
    "    tokens = [item.replace(\"ሕ\", \"ህ\") for item in tokens]\n",
    "    tokens = [item.replace(\"ኅ\", \"ህ\") for item in tokens]\n",
    "    tokens = [item.replace(\"ሖ\", \"ሆ\") for item in tokens]\n",
    "    tokens = [item.replace(\"ኆ\", \"ሆ\") for item in tokens]\n",
    "    tokens = [item.replace(\"ኾ\", \"ሆ\") for item in tokens]\n",
    "    \n",
    "    tokens = [item.replace(\"ሠ\", \"ሰ\") for item in tokens]\n",
    "    tokens = [item.replace(\"ሡ\", \"ሱ\") for item in tokens]\n",
    "    tokens = [item.replace(\"ሢ\", \"ሲ\") for item in tokens]\n",
    "    tokens = [item.replace(\"ሣ\", \"ሳ\") for item in tokens]\n",
    "    tokens = [item.replace(\"ሤ\", \"ሴ\") for item in tokens]\n",
    "    tokens = [item.replace(\"ሥ\", \"ስ\") for item in tokens]\n",
    "    tokens = [item.replace(\"ሦ\", \"ሶ\") for item in tokens]\n",
    "       \n",
    "    tokens = [item.replace(\"ጸ\", \"ፀ\") for item in tokens]\n",
    "    tokens = [item.replace(\"ጹ\", \"ፁ\") for item in tokens]\n",
    "    tokens = [item.replace(\"ጺ\", \"ፂ\") for item in tokens]\n",
    "    tokens = [item.replace(\"ጻ\", \"ፂ\") for item in tokens]\n",
    "    tokens = [item.replace(\"ጼ\", \"ፄ\") for item in tokens]\n",
    "    tokens = [item.replace(\"ጽ\", \"ፅ\") for item in tokens]\n",
    "    tokens = [item.replace(\"ጾ\", \"ፆ\") for item in tokens]\n",
    "    \n",
    "    tokens = [item.replace(\"ዐ\", \"አ\") for item in tokens]\n",
    "    tokens = [item.replace(\"ዑ\", \"ኡ\") for item in tokens]\n",
    "    tokens = [item.replace(\"ዒ\", \"ኢ\") for item in tokens]\n",
    "    tokens = [item.replace(\"ዓ\", \"አ\") for item in tokens]\n",
    "    tokens = [item.replace(\"ኣ\", \"አ\") for item in tokens]\n",
    "    tokens = [item.replace(\"ዔ\", \"ኤ\") for item in tokens]\n",
    "    tokens = [item.replace(\"ዕ\", \"እ\") for item in tokens]\n",
    "    tokens = [item.replace(\"ዖ\", \"ኦ\") for item in tokens]\n",
    "    \n",
    "    return tokens\n",
    "norm_tokens=fnormalize(tokens)"
   ]
  },
  {
   "cell_type": "code",
   "execution_count": null,
   "metadata": {},
   "outputs": [],
   "source": [
    "#norm_tokens"
   ]
  },
  {
   "cell_type": "markdown",
   "metadata": {},
   "source": [
    "# search homophone word\n",
    "የትርጉም ለውጥ የሌላቸው ቃላት ምሳሌ\n",
    "አገር ሀገር ሃገር አህጉር\n",
    "መጽሀፍ መጽሐፍ መፅሐፍ መጽሃፍ\n",
    "ህይወት ሕይወት ኅይወት ሕይዎት\n",
    "አስር ዐስር አሥር\n",
    "ሕዝብ ህዝብ\n",
    "\n",
    "የትርጉም ለውጥ ያላቸው ቃላት …\n",
    "ድህነት=ማጣት፣መቸገር  \n",
    "ድሕነት     \n",
    "ድኅነት=የስጋ ወይም የነፍስ መዳን\n",
    "\n",
    "አመተ=አገልጋይ   \n",
    "ዐመተ=በጋብቻ ተዛመደ(ዐማት፥)  \n",
    "ዓመተ=ዓመተ-ምሕረት \n",
    "         \n",
    "ሠየመ=ሾመ፤ ማዕረግ ሰጠ    \n",
    "ሰየመ=ስም አወጣ"
   ]
  },
  {
   "cell_type": "markdown",
   "metadata": {},
   "source": [
    "# frequency of given homophone word"
   ]
  },
  {
   "cell_type": "code",
   "execution_count": null,
   "metadata": {},
   "outputs": [],
   "source": [
    "hmw = ['አገር', 'ዓገር', 'ሀገር', 'ሃገር', 'ሐገር', 'ኃገር', 'ድህነት', 'ድሕነት', 'ድኅነት', 'ሠየመ', 'ሰየመ', 'ሕዝብ', 'ህዝብ', 'መሣል', 'መሳል', 'ሠረገ', 'ሰረገ']\n",
    "frq_homo_wrd={}\n",
    "for h in hmw:\n",
    "    hm=(len([w for w in stopword_free_tokens if h in w]))\n",
    "    frq_homo_wrd[h] =hm\n",
    "#frq_homo_wrd"
   ]
  },
  {
   "cell_type": "code",
   "execution_count": null,
   "metadata": {},
   "outputs": [],
   "source": [
    "frq_homo_wrd"
   ]
  }
 ],
 "metadata": {
  "kernelspec": {
   "display_name": "Python 3",
   "language": "python",
   "name": "python3"
  },
  "language_info": {
   "codemirror_mode": {
    "name": "ipython",
    "version": 3
   },
   "file_extension": ".py",
   "mimetype": "text/x-python",
   "name": "python",
   "nbconvert_exporter": "python",
   "pygments_lexer": "ipython3",
   "version": "3.7.4"
  }
 },
 "nbformat": 4,
 "nbformat_minor": 2
}
