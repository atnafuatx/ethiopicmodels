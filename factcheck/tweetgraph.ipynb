{
 "cells": [
  {
   "cell_type": "code",
   "execution_count": 1,
   "metadata": {},
   "outputs": [],
   "source": [
    "import pandas as pd\n",
    "import re\n",
    "import emoji\n",
    "import glob\n",
    "from datetime import datetime, timedelta"
   ]
  },
  {
   "cell_type": "code",
   "execution_count": 2,
   "metadata": {},
   "outputs": [],
   "source": [
    "df = pd.read_csv(\"december_2020.csv\", encoding=\"utf-8\",parse_dates=[\"date\",\"time\"])"
   ]
  },
  {
   "cell_type": "code",
   "execution_count": 3,
   "metadata": {},
   "outputs": [
    {
     "data": {
      "text/plain": [
       "Index(['Unnamed: 0', 'id', 'tweet', 'location', 'date', 'time', 'user'], dtype='object')"
      ]
     },
     "execution_count": 3,
     "metadata": {},
     "output_type": "execute_result"
    }
   ],
   "source": [
    "df.columns"
   ]
  },
  {
   "cell_type": "code",
   "execution_count": 4,
   "metadata": {},
   "outputs": [],
   "source": [
    "df = df.drop(['Unnamed: 0','id','location','time','user'], axis =1)"
   ]
  },
  {
   "cell_type": "code",
   "execution_count": 5,
   "metadata": {},
   "outputs": [
    {
     "data": {
      "text/html": [
       "<div>\n",
       "<style scoped>\n",
       "    .dataframe tbody tr th:only-of-type {\n",
       "        vertical-align: middle;\n",
       "    }\n",
       "\n",
       "    .dataframe tbody tr th {\n",
       "        vertical-align: top;\n",
       "    }\n",
       "\n",
       "    .dataframe thead th {\n",
       "        text-align: right;\n",
       "    }\n",
       "</style>\n",
       "<table border=\"1\" class=\"dataframe\">\n",
       "  <thead>\n",
       "    <tr style=\"text-align: right;\">\n",
       "      <th></th>\n",
       "      <th>tweet</th>\n",
       "      <th>date</th>\n",
       "    </tr>\n",
       "  </thead>\n",
       "  <tbody>\n",
       "    <tr>\n",
       "      <th>0</th>\n",
       "      <td>Ethiopia:መርጃ የጁንታው የማያልቅ ቀረርቶ የተደበቁበት ቦታ የፈንቅሉ...</td>\n",
       "      <td>2020-12-01</td>\n",
       "    </tr>\n",
       "    <tr>\n",
       "      <th>1</th>\n",
       "      <td>እምቢልታ ማስነፋት ነጋሪት ማስመታት ነበረ ስራችን፣ ሰው መሆን አይቀርም ...</td>\n",
       "      <td>2020-12-01</td>\n",
       "    </tr>\n",
       "    <tr>\n",
       "      <th>2</th>\n",
       "      <td>@Gfasil ዛሬ እራሱ ወለጋ ላይ ና መተል ላይ አማራ እየታረደ ነው ጅን...</td>\n",
       "      <td>2020-12-01</td>\n",
       "    </tr>\n",
       "    <tr>\n",
       "      <th>3</th>\n",
       "      <td>ሰላም እደሪ ኢትዮጲያዬ</td>\n",
       "      <td>2020-12-01</td>\n",
       "    </tr>\n",
       "    <tr>\n",
       "      <th>4</th>\n",
       "      <td>@Oromo_NT በርግጠኝነት ወያነ ለ 28 ቀናት  -መብራት ስልክ ባንክ ...</td>\n",
       "      <td>2020-12-01</td>\n",
       "    </tr>\n",
       "  </tbody>\n",
       "</table>\n",
       "</div>"
      ],
      "text/plain": [
       "                                               tweet       date\n",
       "0  Ethiopia:መርጃ የጁንታው የማያልቅ ቀረርቶ የተደበቁበት ቦታ የፈንቅሉ... 2020-12-01\n",
       "1  እምቢልታ ማስነፋት ነጋሪት ማስመታት ነበረ ስራችን፣ ሰው መሆን አይቀርም ... 2020-12-01\n",
       "2  @Gfasil ዛሬ እራሱ ወለጋ ላይ ና መተል ላይ አማራ እየታረደ ነው ጅን... 2020-12-01\n",
       "3                                     ሰላም እደሪ ኢትዮጲያዬ 2020-12-01\n",
       "4  @Oromo_NT በርግጠኝነት ወያነ ለ 28 ቀናት  -መብራት ስልክ ባንክ ... 2020-12-01"
      ]
     },
     "execution_count": 5,
     "metadata": {},
     "output_type": "execute_result"
    }
   ],
   "source": [
    "df.head()"
   ]
  },
  {
   "cell_type": "code",
   "execution_count": 6,
   "metadata": {},
   "outputs": [],
   "source": [
    "def find_url(string): \n",
    "    text = re.findall('http[s]?://(?:[a-zA-Z]|[0-9]|[$-_@.&+]|[!*\\(\\),]|(?:%[0-9a-fA-F][0-9a-fA-F]))+',string)\n",
    "    return \"\".join(text)"
   ]
  },
  {
   "cell_type": "code",
   "execution_count": 7,
   "metadata": {},
   "outputs": [
    {
     "name": "stderr",
     "output_type": "stream",
     "text": [
      "C:\\Users\\user\\Anaconda3\\lib\\site-packages\\ipykernel_launcher.py:7: FutureWarning: The default value of regex will change from True to False in a future version.\n",
      "  import sys\n"
     ]
    }
   ],
   "source": [
    "def remove_url(data):    \n",
    "    return data.replace(find_url(data),\"\")\n",
    "\n",
    "def remove_user(user):\n",
    "    return re.sub('(@\\w+)','', user)\n",
    "#Remove [URL, colon,user] from tweet\n",
    "df.tweet = df.tweet.str.replace('http\\S+|www.\\S+|:|@\\S+','', case=False)\n",
    "\n",
    "#remove emojies from tweet\n",
    "def remove_emoji(tweet):\n",
    "    tweet = emoji.demojize(tweet)\n",
    "    re.sub('(:\\S+)','', tweet)\n",
    "    return tweet\n",
    "\n",
    "#df.tweet = df.tweet.apply(lambda x: remove_emoji(x)) ## Takes longer running time\n"
   ]
  },
  {
   "cell_type": "code",
   "execution_count": 8,
   "metadata": {},
   "outputs": [
    {
     "data": {
      "text/html": [
       "<div>\n",
       "<style scoped>\n",
       "    .dataframe tbody tr th:only-of-type {\n",
       "        vertical-align: middle;\n",
       "    }\n",
       "\n",
       "    .dataframe tbody tr th {\n",
       "        vertical-align: top;\n",
       "    }\n",
       "\n",
       "    .dataframe thead th {\n",
       "        text-align: right;\n",
       "    }\n",
       "</style>\n",
       "<table border=\"1\" class=\"dataframe\">\n",
       "  <thead>\n",
       "    <tr style=\"text-align: right;\">\n",
       "      <th></th>\n",
       "      <th>tweet</th>\n",
       "      <th>date</th>\n",
       "    </tr>\n",
       "  </thead>\n",
       "  <tbody>\n",
       "    <tr>\n",
       "      <th>0</th>\n",
       "      <td>Ethiopiaመርጃ የጁንታው የማያልቅ ቀረርቶ የተደበቁበት ቦታ የፈንቅሉ ...</td>\n",
       "      <td>2020-12-01</td>\n",
       "    </tr>\n",
       "    <tr>\n",
       "      <th>1</th>\n",
       "      <td>እምቢልታ ማስነፋት ነጋሪት ማስመታት ነበረ ስራችን፣ ሰው መሆን አይቀርም ...</td>\n",
       "      <td>2020-12-01</td>\n",
       "    </tr>\n",
       "    <tr>\n",
       "      <th>2</th>\n",
       "      <td>ዛሬ እራሱ ወለጋ ላይ ና መተል ላይ አማራ እየታረደ ነው ጅንታው ነው አ...</td>\n",
       "      <td>2020-12-01</td>\n",
       "    </tr>\n",
       "    <tr>\n",
       "      <th>3</th>\n",
       "      <td>ሰላም እደሪ ኢትዮጲያዬ</td>\n",
       "      <td>2020-12-01</td>\n",
       "    </tr>\n",
       "    <tr>\n",
       "      <th>4</th>\n",
       "      <td>በርግጠኝነት ወያነ ለ 28 ቀናት  -መብራት ስልክ ባንክ ትግራይ ውስጥ ...</td>\n",
       "      <td>2020-12-01</td>\n",
       "    </tr>\n",
       "  </tbody>\n",
       "</table>\n",
       "</div>"
      ],
      "text/plain": [
       "                                               tweet       date\n",
       "0  Ethiopiaመርጃ የጁንታው የማያልቅ ቀረርቶ የተደበቁበት ቦታ የፈንቅሉ ... 2020-12-01\n",
       "1  እምቢልታ ማስነፋት ነጋሪት ማስመታት ነበረ ስራችን፣ ሰው መሆን አይቀርም ... 2020-12-01\n",
       "2   ዛሬ እራሱ ወለጋ ላይ ና መተል ላይ አማራ እየታረደ ነው ጅንታው ነው አ... 2020-12-01\n",
       "3                                     ሰላም እደሪ ኢትዮጲያዬ 2020-12-01\n",
       "4   በርግጠኝነት ወያነ ለ 28 ቀናት  -መብራት ስልክ ባንክ ትግራይ ውስጥ ... 2020-12-01"
      ]
     },
     "execution_count": 8,
     "metadata": {},
     "output_type": "execute_result"
    }
   ],
   "source": [
    "df.head()"
   ]
  },
  {
   "cell_type": "code",
   "execution_count": 9,
   "metadata": {},
   "outputs": [
    {
     "data": {
      "text/plain": [
       "215084"
      ]
     },
     "execution_count": 9,
     "metadata": {},
     "output_type": "execute_result"
    }
   ],
   "source": [
    "len(df)"
   ]
  },
  {
   "cell_type": "code",
   "execution_count": 10,
   "metadata": {},
   "outputs": [],
   "source": [
    "hateword=['መጤ', 'ሰፋሪ', 'ሴረኛ', 'ቡዳ', 'ባሪያ', 'ባንዳ', 'ብሄርተኛ', 'ነፍጠኛ', 'አሸባሪ','አክራሪ', \n",
    "          'ኦነግ', 'ኬኛ', 'ወራሪ', 'ወያኔ', 'ዘረኛ', 'ጁንታ', 'ጋላ', 'ጎሰኛ', 'ጨቋኝ', 'ፋሽሽት']"
   ]
  },
  {
   "cell_type": "code",
   "execution_count": 11,
   "metadata": {},
   "outputs": [],
   "source": [
    "hate = len(df[df.tweet.str.contains('|'.join(hateword))])"
   ]
  },
  {
   "cell_type": "code",
   "execution_count": 12,
   "metadata": {},
   "outputs": [
    {
     "data": {
      "text/plain": [
       "8204"
      ]
     },
     "execution_count": 12,
     "metadata": {},
     "output_type": "execute_result"
    }
   ],
   "source": [
    "hate"
   ]
  },
  {
   "cell_type": "code",
   "execution_count": null,
   "metadata": {},
   "outputs": [],
   "source": []
  },
  {
   "cell_type": "code",
   "execution_count": 13,
   "metadata": {},
   "outputs": [],
   "source": [
    "\n",
    "date=df[(df['date'] > '2020-11') & (df['date'] < '2020-12-30')]"
   ]
  },
  {
   "cell_type": "code",
   "execution_count": 29,
   "metadata": {},
   "outputs": [
    {
     "ename": "SyntaxError",
     "evalue": "unexpected EOF while parsing (<ipython-input-29-36824284a349>, line 3)",
     "output_type": "error",
     "traceback": [
      "\u001b[1;36m  File \u001b[1;32m\"<ipython-input-29-36824284a349>\"\u001b[1;36m, line \u001b[1;32m3\u001b[0m\n\u001b[1;33m    \u001b[0m\n\u001b[1;37m    ^\u001b[0m\n\u001b[1;31mSyntaxError\u001b[0m\u001b[1;31m:\u001b[0m unexpected EOF while parsing\n"
     ]
    }
   ],
   "source": [
    "#for d in df.itertuples():\n",
    "    #print (d.date)\n",
    "    "
   ]
  },
  {
   "cell_type": "code",
   "execution_count": null,
   "metadata": {},
   "outputs": [],
   "source": []
  },
  {
   "cell_type": "code",
   "execution_count": null,
   "metadata": {},
   "outputs": [],
   "source": [
    "prevdate = date"
   ]
  },
  {
   "cell_type": "code",
   "execution_count": null,
   "metadata": {},
   "outputs": [],
   "source": []
  },
  {
   "cell_type": "code",
   "execution_count": 115,
   "metadata": {},
   "outputs": [
    {
     "data": {
      "text/plain": [
       "206766"
      ]
     },
     "execution_count": 115,
     "metadata": {},
     "output_type": "execute_result"
    }
   ],
   "source": [
    "len(date)"
   ]
  },
  {
   "cell_type": "code",
   "execution_count": 121,
   "metadata": {},
   "outputs": [
    {
     "data": {
      "text/plain": [
       "Timestamp('2020-12-31 00:00:00')"
      ]
     },
     "execution_count": 121,
     "metadata": {},
     "output_type": "execute_result"
    }
   ],
   "source": [
    "date['date'][0]+timedelta(30)"
   ]
  },
  {
   "cell_type": "code",
   "execution_count": null,
   "metadata": {},
   "outputs": [],
   "source": []
  }
 ],
 "metadata": {
  "kernelspec": {
   "display_name": "Python 3",
   "language": "python",
   "name": "python3"
  },
  "language_info": {
   "codemirror_mode": {
    "name": "ipython",
    "version": 3
   },
   "file_extension": ".py",
   "mimetype": "text/x-python",
   "name": "python",
   "nbconvert_exporter": "python",
   "pygments_lexer": "ipython3",
   "version": "3.7.4"
  }
 },
 "nbformat": 4,
 "nbformat_minor": 2
}
