{
 "cells": [
  {
   "cell_type": "code",
   "execution_count": 1,
   "metadata": {},
   "outputs": [],
   "source": [
    "import pandas as pd"
   ]
  },
  {
   "cell_type": "code",
   "execution_count": 10,
   "metadata": {},
   "outputs": [],
   "source": [
    "df = pd.read_csv(\"covid19.csv\", index_col=0)"
   ]
  },
  {
   "cell_type": "code",
   "execution_count": 20,
   "metadata": {},
   "outputs": [
    {
     "name": "stdout",
     "output_type": "stream",
     "text": [
      "Covid 2176\n",
      "Corona 17632\n",
      "Mask 643\n",
      "Sanitizer 27\n",
      "COVID 3926\n",
      "Corona 799\n"
     ]
    }
   ],
   "source": [
    "korona = df[df['tweet'].str.contains(\"ኮቪድ\")]\n",
    "print(\"Covid\", len(korona))\n",
    "\n",
    "korona = df[df['tweet'].str.contains(\"ኮሮና\")]\n",
    "print(\"Corona\", len(korona))\n",
    "\n",
    "korona = df[df['tweet'].str.contains(\"ማስክ\")]\n",
    "print(\"Mask\", len(korona))\n",
    "\n",
    "korona = df[df['tweet'].str.contains(\"sanitizer\")]\n",
    "print(\"Sanitizer\", len(korona))\n",
    "\n",
    "korona = df[df['tweet'].str.contains(\"COVID\")]\n",
    "print(\"COVID\", len(korona))\n",
    "\n",
    "korona = df[df['tweet'].str.contains(\"Corona\")]\n",
    "print(\"Corona\", len(korona))"
   ]
  },
  {
   "cell_type": "code",
   "execution_count": 17,
   "metadata": {},
   "outputs": [
    {
     "data": {
      "text/plain": [
       "2176"
      ]
     },
     "execution_count": 17,
     "metadata": {},
     "output_type": "execute_result"
    }
   ],
   "source": []
  },
  {
   "cell_type": "code",
   "execution_count": null,
   "metadata": {},
   "outputs": [],
   "source": []
  }
 ],
 "metadata": {
  "kernelspec": {
   "display_name": "Python 3",
   "language": "python",
   "name": "python3"
  },
  "language_info": {
   "codemirror_mode": {
    "name": "ipython",
    "version": 3
   },
   "file_extension": ".py",
   "mimetype": "text/x-python",
   "name": "python",
   "nbconvert_exporter": "python",
   "pygments_lexer": "ipython3",
   "version": "3.7.3"
  }
 },
 "nbformat": 4,
 "nbformat_minor": 4
}
