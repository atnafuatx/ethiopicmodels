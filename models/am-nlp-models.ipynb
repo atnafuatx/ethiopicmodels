{
 "cells": [
  {
   "cell_type": "markdown",
   "id": "1df1ef05-5f85-4cee-9f6a-c4d2e800c475",
   "metadata": {},
   "source": [
    "# Starter code to load NLP classification models for Amahric"
   ]
  },
  {
   "cell_type": "code",
   "execution_count": 5,
   "id": "d49c8efe",
   "metadata": {
    "collapsed": true,
    "jupyter": {
     "outputs_hidden": true
    },
    "tags": []
   },
   "outputs": [
    {
     "name": "stdout",
     "output_type": "stream",
     "text": [
      "Requirement already satisfied: flair in /opt/anaconda3/lib/python3.8/site-packages (0.9)\n",
      "Requirement already satisfied: gdown==3.12.2 in /opt/anaconda3/lib/python3.8/site-packages (from flair) (3.12.2)\n",
      "Requirement already satisfied: scikit-learn>=0.21.3 in /opt/anaconda3/lib/python3.8/site-packages (from flair) (0.24.1)\n",
      "Requirement already satisfied: mpld3==0.3 in /opt/anaconda3/lib/python3.8/site-packages (from flair) (0.3)\n",
      "Requirement already satisfied: sqlitedict>=1.6.0 in /opt/anaconda3/lib/python3.8/site-packages (from flair) (1.7.0)\n",
      "Requirement already satisfied: langdetect in /opt/anaconda3/lib/python3.8/site-packages (from flair) (1.0.9)\n",
      "Requirement already satisfied: transformers>=4.0.0 in /opt/anaconda3/lib/python3.8/site-packages (from flair) (4.12.3)\n",
      "Requirement already satisfied: hyperopt>=0.1.1 in /opt/anaconda3/lib/python3.8/site-packages (from flair) (0.2.5)\n",
      "Requirement already satisfied: wikipedia-api in /opt/anaconda3/lib/python3.8/site-packages (from flair) (0.5.4)\n",
      "Requirement already satisfied: segtok>=1.5.7 in /opt/anaconda3/lib/python3.8/site-packages (from flair) (1.5.10)\n",
      "Requirement already satisfied: conllu>=4.0 in /opt/anaconda3/lib/python3.8/site-packages (from flair) (4.4.1)\n",
      "Requirement already satisfied: ftfy in /opt/anaconda3/lib/python3.8/site-packages (from flair) (6.0.3)\n",
      "Requirement already satisfied: deprecated>=1.2.4 in /opt/anaconda3/lib/python3.8/site-packages (from flair) (1.2.13)\n",
      "Requirement already satisfied: tabulate in /opt/anaconda3/lib/python3.8/site-packages (from flair) (0.8.9)\n",
      "Requirement already satisfied: matplotlib>=2.2.3 in /opt/anaconda3/lib/python3.8/site-packages (from flair) (3.3.4)\n",
      "Requirement already satisfied: gensim<=3.8.3,>=3.4.0 in /opt/anaconda3/lib/python3.8/site-packages (from flair) (3.8.3)\n",
      "Requirement already satisfied: janome in /opt/anaconda3/lib/python3.8/site-packages (from flair) (0.4.1)\n",
      "Requirement already satisfied: regex in /opt/anaconda3/lib/python3.8/site-packages (from flair) (2021.4.4)\n",
      "Requirement already satisfied: more-itertools~=8.8.0 in /opt/anaconda3/lib/python3.8/site-packages (from flair) (8.8.0)\n",
      "Requirement already satisfied: bpemb>=0.3.2 in /opt/anaconda3/lib/python3.8/site-packages (from flair) (0.3.3)\n",
      "Requirement already satisfied: huggingface-hub in /opt/anaconda3/lib/python3.8/site-packages (from flair) (0.1.2)\n",
      "Requirement already satisfied: torch!=1.8,>=1.5.0 in /opt/anaconda3/lib/python3.8/site-packages (from flair) (1.9.1)\n",
      "Requirement already satisfied: lxml in /opt/anaconda3/lib/python3.8/site-packages (from flair) (4.6.3)\n",
      "Requirement already satisfied: sentencepiece==0.1.95 in /opt/anaconda3/lib/python3.8/site-packages (from flair) (0.1.95)\n",
      "Requirement already satisfied: tqdm>=4.26.0 in /opt/anaconda3/lib/python3.8/site-packages (from flair) (4.59.0)\n",
      "Requirement already satisfied: konoha<5.0.0,>=4.0.0 in /opt/anaconda3/lib/python3.8/site-packages (from flair) (4.6.5)\n",
      "Requirement already satisfied: python-dateutil>=2.6.1 in /opt/anaconda3/lib/python3.8/site-packages (from flair) (2.8.1)\n",
      "Requirement already satisfied: filelock in /opt/anaconda3/lib/python3.8/site-packages (from gdown==3.12.2->flair) (3.0.12)\n",
      "Requirement already satisfied: six in /opt/anaconda3/lib/python3.8/site-packages (from gdown==3.12.2->flair) (1.15.0)\n",
      "Requirement already satisfied: requests[socks] in /opt/anaconda3/lib/python3.8/site-packages (from gdown==3.12.2->flair) (2.25.1)\n",
      "Requirement already satisfied: numpy in /opt/anaconda3/lib/python3.8/site-packages (from bpemb>=0.3.2->flair) (1.20.1)\n",
      "Requirement already satisfied: wrapt<2,>=1.10 in /opt/anaconda3/lib/python3.8/site-packages (from deprecated>=1.2.4->flair) (1.12.1)\n",
      "Requirement already satisfied: smart-open>=1.8.1 in /opt/anaconda3/lib/python3.8/site-packages (from gensim<=3.8.3,>=3.4.0->flair) (5.2.1)\n",
      "Requirement already satisfied: scipy>=0.18.1 in /opt/anaconda3/lib/python3.8/site-packages (from gensim<=3.8.3,>=3.4.0->flair) (1.6.2)\n",
      "Requirement already satisfied: future in /opt/anaconda3/lib/python3.8/site-packages (from hyperopt>=0.1.1->flair) (0.18.2)\n",
      "Requirement already satisfied: cloudpickle in /opt/anaconda3/lib/python3.8/site-packages (from hyperopt>=0.1.1->flair) (1.6.0)\n",
      "Requirement already satisfied: networkx>=2.2 in /opt/anaconda3/lib/python3.8/site-packages (from hyperopt>=0.1.1->flair) (2.5)\n",
      "Requirement already satisfied: overrides<4.0.0,>=3.0.0 in /opt/anaconda3/lib/python3.8/site-packages (from konoha<5.0.0,>=4.0.0->flair) (3.1.0)\n",
      "Requirement already satisfied: importlib-metadata<4.0.0,>=3.7.0 in /opt/anaconda3/lib/python3.8/site-packages (from konoha<5.0.0,>=4.0.0->flair) (3.10.0)\n",
      "Requirement already satisfied: zipp>=0.5 in /opt/anaconda3/lib/python3.8/site-packages (from importlib-metadata<4.0.0,>=3.7.0->konoha<5.0.0,>=4.0.0->flair) (3.4.1)\n",
      "Requirement already satisfied: pillow>=6.2.0 in /opt/anaconda3/lib/python3.8/site-packages (from matplotlib>=2.2.3->flair) (8.2.0)\n",
      "Requirement already satisfied: cycler>=0.10 in /opt/anaconda3/lib/python3.8/site-packages (from matplotlib>=2.2.3->flair) (0.10.0)\n",
      "Requirement already satisfied: pyparsing!=2.0.4,!=2.1.2,!=2.1.6,>=2.0.3 in /opt/anaconda3/lib/python3.8/site-packages (from matplotlib>=2.2.3->flair) (2.4.7)\n",
      "Requirement already satisfied: kiwisolver>=1.0.1 in /opt/anaconda3/lib/python3.8/site-packages (from matplotlib>=2.2.3->flair) (1.3.1)\n",
      "Requirement already satisfied: decorator>=4.3.0 in /opt/anaconda3/lib/python3.8/site-packages (from networkx>=2.2->hyperopt>=0.1.1->flair) (5.0.6)\n",
      "Requirement already satisfied: chardet<5,>=3.0.2 in /opt/anaconda3/lib/python3.8/site-packages (from requests[socks]->gdown==3.12.2->flair) (4.0.0)\n",
      "Requirement already satisfied: urllib3<1.27,>=1.21.1 in /opt/anaconda3/lib/python3.8/site-packages (from requests[socks]->gdown==3.12.2->flair) (1.26.4)\n",
      "Requirement already satisfied: idna<3,>=2.5 in /opt/anaconda3/lib/python3.8/site-packages (from requests[socks]->gdown==3.12.2->flair) (2.10)\n",
      "Requirement already satisfied: certifi>=2017.4.17 in /opt/anaconda3/lib/python3.8/site-packages (from requests[socks]->gdown==3.12.2->flair) (2020.12.5)\n",
      "Requirement already satisfied: joblib>=0.11 in /opt/anaconda3/lib/python3.8/site-packages (from scikit-learn>=0.21.3->flair) (1.0.1)\n",
      "Requirement already satisfied: threadpoolctl>=2.0.0 in /opt/anaconda3/lib/python3.8/site-packages (from scikit-learn>=0.21.3->flair) (2.1.0)\n",
      "Requirement already satisfied: typing-extensions in /opt/anaconda3/lib/python3.8/site-packages (from torch!=1.8,>=1.5.0->flair) (3.7.4.3)\n",
      "Requirement already satisfied: sacremoses in /opt/anaconda3/lib/python3.8/site-packages (from transformers>=4.0.0->flair) (0.0.46)\n",
      "Requirement already satisfied: packaging>=20.0 in /opt/anaconda3/lib/python3.8/site-packages (from transformers>=4.0.0->flair) (20.9)\n",
      "Requirement already satisfied: pyyaml>=5.1 in /opt/anaconda3/lib/python3.8/site-packages (from transformers>=4.0.0->flair) (5.4.1)\n",
      "Requirement already satisfied: tokenizers<0.11,>=0.10.1 in /opt/anaconda3/lib/python3.8/site-packages (from transformers>=4.0.0->flair) (0.10.3)\n",
      "Requirement already satisfied: wcwidth in /opt/anaconda3/lib/python3.8/site-packages (from ftfy->flair) (0.2.5)\n",
      "Requirement already satisfied: PySocks!=1.5.7,>=1.5.6 in /opt/anaconda3/lib/python3.8/site-packages (from requests[socks]->gdown==3.12.2->flair) (1.7.1)\n",
      "Requirement already satisfied: click in /opt/anaconda3/lib/python3.8/site-packages (from sacremoses->transformers>=4.0.0->flair) (7.1.2)\n",
      "Collecting wget\n",
      "  Downloading wget-3.2.zip (10 kB)\n",
      "Building wheels for collected packages: wget\n",
      "  Building wheel for wget (setup.py) ... \u001b[?25ldone\n",
      "\u001b[?25h  Created wheel for wget: filename=wget-3.2-py3-none-any.whl size=9680 sha256=2c4bbb4b562b71516b273288a1ae8fadcdc670a6362f2eb0cd1a797bdad50584\n",
      "  Stored in directory: /Users/seidmuhieyimam/Library/Caches/pip/wheels/bd/a8/c3/3cf2c14a1837a4e04bd98631724e81f33f462d86a1d895fae0\n",
      "Successfully built wget\n",
      "Installing collected packages: wget\n",
      "Successfully installed wget-3.2\n"
     ]
    }
   ],
   "source": [
    "!pip install flair\n",
    "!pip install wget"
   ]
  },
  {
   "cell_type": "markdown",
   "id": "64221fd0-3250-4da0-a582-b12cb0b8ecef",
   "metadata": {},
   "source": [
    "# Using the Amahric NER classification model"
   ]
  },
  {
   "cell_type": "code",
   "execution_count": 7,
   "id": "86eac0e9-620a-46d7-bc41-d24b98b1a962",
   "metadata": {},
   "outputs": [],
   "source": [
    "import wget\n",
    "\n",
    "am_ner_model = wget.download(\"http://ltdata1.informatik.uni-hamburg.de/amharic/taskmodels/ner/final-model.pt\")"
   ]
  },
  {
   "cell_type": "code",
   "execution_count": 8,
   "id": "27f6d86f",
   "metadata": {},
   "outputs": [
    {
     "name": "stdout",
     "output_type": "stream",
     "text": [
      "2021-11-13 03:52:14,114 loading file final-model.pt\n",
      "አበበ <B-PER> በሶ በለ ።\n"
     ]
    }
   ],
   "source": [
    "from flair.data import Sentence\n",
    "from flair.models import SequenceTagger\n",
    "\n",
    "# load the model you trained\n",
    "model = SequenceTagger.load(am_ner_model)\n",
    "# or if you manually download the final-model.pt file do it as follows, make sure to put the correct path\n",
    "# model = SequenceTagger.load(am_ner_model)\n",
    "\n",
    "\n",
    "# create example sentence\n",
    "sentence = Sentence('አበበ በሶ በለ ።')\n",
    "\n",
    "# predict tags and print\n",
    "model.predict(sentence)\n",
    "\n",
    "print(sentence.to_tagged_string())"
   ]
  },
  {
   "cell_type": "markdown",
   "id": "02ebb2b9-4892-4302-b41e-e046736ba9c4",
   "metadata": {},
   "source": [
    "# Using the Amahric Sentitment classification model"
   ]
  },
  {
   "cell_type": "code",
   "execution_count": 9,
   "id": "99c89a2a-cd2b-4445-812b-db05daba135a",
   "metadata": {},
   "outputs": [],
   "source": [
    "import wget\n",
    "\n",
    "am_sent_model = wget.download(\"http://ltdata1.informatik.uni-hamburg.de/amharic/taskmodels/sent/final-model.pt\")"
   ]
  },
  {
   "cell_type": "code",
   "execution_count": 13,
   "id": "34871370-f380-425c-86ed-ba111d252a32",
   "metadata": {},
   "outputs": [
    {
     "name": "stdout",
     "output_type": "stream",
     "text": [
      "2021-11-13 04:33:13,756 loading file final-model (1).pt\n",
      "[NEGATIVE (0.7934)]\n"
     ]
    }
   ],
   "source": [
    "from flair.models import TextClassifier\n",
    "classifier = TextClassifier.load(am_sent_model)\n",
    "\n",
    "# create example sentence\n",
    "sentence = Sentence('ስንት ምስኪን ነበር ያኔ:: አንዱ ሲኒየር ነን ካፌ ላድርጋችሁ ብሎን ስንት ምግብ አዘን አብሮ የበላውን ክፈሉ ብሎን ጠፍቷል')\n",
    "\n",
    "# predict class and print\n",
    "classifier.predict(sentence)\n",
    "\n",
    "print(sentence.labels)"
   ]
  },
  {
   "cell_type": "markdown",
   "id": "b239f51c-7dec-406c-bbb4-e3cff12f3284",
   "metadata": {},
   "source": [
    "# Using the Amahric POS tagging classification model"
   ]
  },
  {
   "cell_type": "code",
   "execution_count": 14,
   "id": "c54e720f-5020-4d5e-8e6c-8922218d8d32",
   "metadata": {},
   "outputs": [],
   "source": [
    "import wget\n",
    "\n",
    "am_pos_model = wget.download(\"http://ltdata1.informatik.uni-hamburg.de/amharic/taskmodels/pos/final-model.pt\")"
   ]
  },
  {
   "cell_type": "code",
   "execution_count": 20,
   "id": "ee84300f-05d1-4a52-848e-e87a9a595557",
   "metadata": {},
   "outputs": [
    {
     "name": "stdout",
     "output_type": "stream",
     "text": [
      "2021-11-13 19:27:03,764 loading file final-model (2).pt\n",
      "አበበ <N> ብዙ <ADJ> በሶ <N> በላ <V> ። <PUNC>\n"
     ]
    }
   ],
   "source": [
    "from flair.models import SequenceTagger\n",
    "classifier = SequenceTagger.load(am_pos_model)\n",
    "\n",
    "# create example sentence\n",
    "sentence = Sentence('አበበ ብዙ በሶ በላ ።')\n",
    "# predict class and print\n",
    "classifier.predict(sentence)\n",
    "\n",
    "print(sentence.to_tagged_string())"
   ]
  },
  {
   "cell_type": "code",
   "execution_count": null,
   "id": "8beceb26-15e9-4603-936c-8f49690f1fda",
   "metadata": {},
   "outputs": [],
   "source": []
  }
 ],
 "metadata": {
  "kernelspec": {
   "display_name": "Python 3",
   "language": "python",
   "name": "python3"
  },
  "language_info": {
   "codemirror_mode": {
    "name": "ipython",
    "version": 3
   },
   "file_extension": ".py",
   "mimetype": "text/x-python",
   "name": "python",
   "nbconvert_exporter": "python",
   "pygments_lexer": "ipython3",
   "version": "3.8.8"
  }
 },
 "nbformat": 4,
 "nbformat_minor": 5
}
