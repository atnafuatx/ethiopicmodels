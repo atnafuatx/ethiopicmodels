{
 "cells": [
  {
   "cell_type": "markdown",
   "metadata": {},
   "source": [
    "# frequency based normalization"
   ]
  },
  {
   "cell_type": "code",
   "execution_count": null,
   "metadata": {},
   "outputs": [],
   "source": []
  },
  {
   "cell_type": "code",
   "execution_count": 1,
   "metadata": {},
   "outputs": [],
   "source": [
    "import os\n",
    "for root, dirs, files in os.walk('processed/'):\n",
    "    for file in files:\n",
    "        with open(\"processed/\" + file, \"r\",encoding=\"utf-8\") as f:\n",
    "            tokens = f.read().split(\"\\n\")"
   ]
  },
  {
   "cell_type": "markdown",
   "metadata": {},
   "source": [
    "# Normalization based on frequency"
   ]
  },
  {
   "cell_type": "code",
   "execution_count": 17,
   "metadata": {},
   "outputs": [],
   "source": [
    "def normalize (norm):\n",
    "        norm = norm.replace(\"ሃ\", \"ሀ\")\n",
    "        norm = norm.replace(\"ሐ\", \"ሀ\")\n",
    "        norm = norm.replace(\"ሓ\", \"ሀ\")\n",
    "        norm = norm.replace(\"ኅ\", \"ሀ\")\n",
    "        norm = norm.replace(\"ኻ\", \"ሀ\")\n",
    "        norm = norm.replace(\"ኃ\", \"ሀ\")\n",
    "        norm = norm.replace(\"ዅ\", \"ሁ\")\n",
    "        norm = norm.replace(\"ሗ\", \"ኋ\")\n",
    "        norm = norm.replace(\"ኁ\", \"ሁ\")\n",
    "        norm = norm.replace(\"ኂ\", \"ሂ\")\n",
    "        norm = norm.replace(\"ኄ\", \"ሄ\");\n",
    "        norm = norm.replace(\"ዄ\", \"ሄ\");\n",
    "        norm = norm.replace(\"ኅ\", \"ህ\");\n",
    "        norm = norm.replace(\"ኆ\", \"ሆ\");\n",
    "        norm = norm.replace(\"ሑ\", \"ሁ\");\n",
    "        norm = norm.replace(\"ሒ\", \"ሂ\");\n",
    "        norm = norm.replace(\"ሔ\", \"ሄ\");\n",
    "        norm = norm.replace(\"ሕ\", \"ህ\");\n",
    "        norm = norm.replace(\"ሖ\", \"ሆ\");\n",
    "        norm = norm.replace(\"ኾ\", \"ሆ\");\n",
    "        norm = norm.replace(\"ሠ\", \"ሰ\");\n",
    "        norm = norm.replace(\"ሡ\", \"ሱ\");\n",
    "        norm = norm.replace(\"ሢ\", \"ሲ\");\n",
    "        norm = norm.replace(\"ሣ\", \"ሳ\");\n",
    "        norm = norm.replace(\"ሤ\", \"ሴ\");\n",
    "        norm = norm.replace(\"ሥ\", \"ስ\");\n",
    "        norm = norm.replace(\"ሦ\", \"ሶ\");\n",
    "        norm = norm.replace(\"ሼ\", \"ሸ\");\n",
    "        norm = norm.replace(\"ቼ\", \"ቸ\");\n",
    "        norm = norm.replace(\"ዬ\", \"የ\");\n",
    "        norm = norm.replace(\"ዲ\", \"ድ\");\n",
    "        norm = norm.replace(\"ጄ\", \"ጀ\");\n",
    "        norm = norm.replace(\"ጸ\", \"ፀ\");\n",
    "        norm = norm.replace(\"ጹ\", \"ፁ\");\n",
    "        norm = norm.replace(\"ጺ\", \"ፂ\");\n",
    "        norm = norm.replace(\"ጻ\", \"ፃ\");\n",
    "        norm = norm.replace(\"ጼ\", \"ፄ\");\n",
    "        norm = norm.replace(\"ጽ\", \"ፅ\");\n",
    "        norm = norm.replace(\"ጾ\", \"ፆ\");\n",
    "   \n",
    "        norm = norm.replace(\"ዓ\", \"አ\");\n",
    "        norm = norm.replace(\"ዑ\", \"ኡ\");\n",
    "        norm = norm.replace(\"ዒ\", \"ኢ\");\n",
    "        norm = norm.replace(\"ዐ\", \"አ\");\n",
    "        norm = norm.replace(\"ኣ\", \"አ\");\n",
    "        norm = norm.replace(\"ዔ\", \"ኤ\");\n",
    "        norm = norm.replace(\"ዕ\", \"እ\");\n",
    "        norm = norm.replace(\"ዖ\", \"ኦ\");\n",
    "        \n",
    "        norm=re.sub('(ሉ[ዋአ])','ሏ',norm)\n",
    "        norm=re.sub('(ሙ[ዋአ])','ሟ',norm)\n",
    "        norm=re.sub('(ቱ[ዋአ])','ቷ',norm)\n",
    "        norm=re.sub('(ሩ[ዋአ])','ሯ',norm)\n",
    "        norm=re.sub('(ሱ[ዋአ])','ሷ',norm)\n",
    "        norm=re.sub('(ሹ[ዋአ])','ሿ',norm)\n",
    "        norm=re.sub('(ቁ[ዋአ])','ቋ',norm)\n",
    "        norm=re.sub('(ቡ[ዋአ])','ቧ',norm)\n",
    "        norm=re.sub('(ቹ[ዋአ])','ቿ',norm)\n",
    "        norm=re.sub('(ሁ[ዋአ])','ኋ',norm)\n",
    "        norm=re.sub('(ኑ[ዋአ])','ኗ',norm)\n",
    "        norm=re.sub('(ኙ[ዋአ])','ኟ',norm)\n",
    "        norm=re.sub('(ኩ[ዋአ])','ኳ',norm)\n",
    "        norm=re.sub('(ዙ[ዋአ])','ዟ',norm)\n",
    "        norm=re.sub('(ጉ[ዋአ])','ጓ',norm)\n",
    "        norm=re.sub('(ደ[ዋአ])','ዷ',norm)\n",
    "        norm=re.sub('(ጡ[ዋአ])','ጧ',norm)\n",
    "        norm=re.sub('(ጩ[ዋአ])','ጯ',norm)\n",
    "        norm=re.sub('(ጹ[ዋአ])','ጿ',norm)\n",
    "        norm=re.sub('(ፉ[ዋአ])','ፏ',norm)\n",
    "        norm=re.sub('[ቊ]','ቁ',norm) \n",
    "        norm=re.sub('[ኵ]','ኩ',norm)\n",
    "        norm=re.sub('\\s+',' ',norm)\n",
    "        \n",
    "        return norm\n",
    "norm_tokens = normalize(tokens)"
   ]
  },
  {
   "cell_type": "code",
   "execution_count": 18,
   "metadata": {},
   "outputs": [],
   "source": [
    "#norm_tokens"
   ]
  },
  {
   "cell_type": "code",
   "execution_count": null,
   "metadata": {},
   "outputs": [],
   "source": []
  }
 ],
 "metadata": {
  "kernelspec": {
   "display_name": "Python 3",
   "language": "python",
   "name": "python3"
  },
  "language_info": {
   "codemirror_mode": {
    "name": "ipython",
    "version": 3
   },
   "file_extension": ".py",
   "mimetype": "text/x-python",
   "name": "python",
   "nbconvert_exporter": "python",
   "pygments_lexer": "ipython3",
   "version": "3.7.4"
  }
 },
 "nbformat": 4,
 "nbformat_minor": 2
}
