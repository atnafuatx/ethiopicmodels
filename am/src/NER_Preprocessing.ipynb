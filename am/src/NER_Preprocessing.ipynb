{
 "cells": [
  {
   "cell_type": "code",
   "execution_count": 160,
   "metadata": {},
   "outputs": [],
   "source": [
    "import pandas as pd\n",
    "import sweetviz\n",
    "import re\n",
    "import random\n",
    "import pandas as pd\n",
    "import glob\n",
    "import warnings\n",
    "import unidecode\n",
    "import numpy as np\n",
    "warnings.filterwarnings('ignore')"
   ]
  },
  {
   "cell_type": "code",
   "execution_count": 161,
   "metadata": {},
   "outputs": [],
   "source": [
    "def missing_value_of_data(data):\n",
    "    total=data.isnull().sum().sort_values(ascending=False)\n",
    "    percentage=round(total/data.shape[0]*100,2)\n",
    "    return pd.concat([total,percentage],axis=1,keys=['Total','Percentage'])"
   ]
  },
  {
   "cell_type": "code",
   "execution_count": 162,
   "metadata": {},
   "outputs": [],
   "source": [
    "def count_values_in_column(data,feature):\n",
    "    total=data.loc[:,feature].value_counts(dropna=False)\n",
    "    percentage=round(data.loc[:,feature].value_counts(dropna=False,normalize=True)*100,2)\n",
    "    return pd.concat([total,percentage],axis=1,keys=['Total','Percentage'])"
   ]
  },
  {
   "cell_type": "code",
   "execution_count": 163,
   "metadata": {},
   "outputs": [],
   "source": [
    "def unique_values_in_column(data,feature):\n",
    "    unique_val=pd.Series(data.loc[:,feature].unique())\n",
    "    return pd.concat([unique_val],axis=1,keys=['Unique Values'])"
   ]
  },
  {
   "cell_type": "code",
   "execution_count": 164,
   "metadata": {},
   "outputs": [],
   "source": [
    "\n",
    "def duplicated_values_data(data):\n",
    "    dup=[]\n",
    "    columns=data.columns\n",
    "    for i in data.columns:\n",
    "        dup.append(sum(data[i].duplicated()))\n",
    "    return pd.concat([pd.Series(columns),pd.Series(dup)],axis=1,keys=['Columns','Duplicate count'])"
   ]
  },
  {
   "cell_type": "code",
   "execution_count": 165,
   "metadata": {},
   "outputs": [],
   "source": [
    "def find_url(string): \n",
    "    text = re.findall('http[s]?://(?:[a-zA-Z]|[0-9]|[$-_@.&+]|[!*\\(\\),]|(?:%[0-9a-fA-F][0-9a-fA-F]))+',string)\n",
    "    return \"\".join(text) # converting return value from list to string"
   ]
  },
  {
   "cell_type": "code",
   "execution_count": 166,
   "metadata": {},
   "outputs": [],
   "source": [
    "def remove_url(data):\n",
    "    return data.replace(find_url(data),\"\")"
   ]
  },
  {
   "cell_type": "code",
   "execution_count": 167,
   "metadata": {},
   "outputs": [],
   "source": [
    "#\n",
    "def sentence_splitter(content):\n",
    "    # splitters = [\"፡፡\",\"።\",\"?\",\"::\",\"!\"]\n",
    "    sentence = []\n",
    "    sentences = re.split(\"([፡፡።?!])\",content)\n",
    "    #print(sentences)\n",
    "    w = len(sentences)\n",
    "    for i in np.arange(0,w,2):\n",
    "        if(len(\"\".join(sentences[i:i+2])) > 1):\n",
    "            if(\"\".join(sentences[i:i+2])[-1] == \"፡\"):\n",
    "                sentence.append(\"፡\".join(sentences[i:i+2]))\n",
    "            else:\n",
    "                sentence.append(\"\".join(sentences[i:i+2]))\n",
    "    return sentence\n",
    "    \n",
    "    #return [sentence.strip() for sentence in sentences if len(sentence) > 1]"
   ]
  },
  {
   "cell_type": "code",
   "execution_count": 168,
   "metadata": {},
   "outputs": [],
   "source": [
    "def remove_English_letters(content):\n",
    "    for idx,cnt in enumerate(content):\n",
    "        content[idx] = re.sub(r'[a-zA-Z]','', cnt)\n",
    "    return content\n",
    "\n",
    "\n",
    "def normalize(data):\n",
    "    normal = unicodedata.normalize('NFKD', data).encode('ASCII', 'ignore')\n",
    "    return(normal.decode())  "
   ]
  },
  {
   "cell_type": "code",
   "execution_count": 169,
   "metadata": {},
   "outputs": [
    {
     "name": "stdout",
     "output_type": "stream",
     "text": [
      "Before Removing Duplicated Sentences\n",
      "        Columns  Duplicate count\n",
      "0  Arbitrary_ID                0\n",
      "1           URL           225465\n",
      "2          Date           305100\n",
      "3         Media           250168\n",
      "4       Content           224889\n",
      "======================================== \n",
      "After Removing Duplicated Sentences\n",
      "        Columns  Duplicate count\n",
      "0  Arbitrary_ID                0\n",
      "1           URL            24572\n",
      "2          Date            80211\n",
      "3         Media            40278\n",
      "4       Content                0\n"
     ]
    }
   ],
   "source": [
    "remove = ['\\xa087','\\n','\\xa0', '|', '/','፤',':','፣','«','»','...','..']\n",
    "May_news_DF = pd.DataFrame()\n",
    "May_news  = glob.glob(\"2020_05_amharic/output/*.csv\")\n",
    "for news in May_news:\n",
    "    data = pd.read_csv(news, names=[\"ID\",\"URL\",\"Date\",\"Media\",\"Content\"])\n",
    "    \n",
    "    #print(missing_value_of_data(data))\n",
    "    \n",
    "    #print(count_values_in_column(data, 'Content'))\n",
    "    \n",
    "    #print(unique_values_in_column(data,'Content'))\n",
    "    \n",
    "    #Checking Duplicated sentences\n",
    "    \n",
    "    #print(duplicated_values_data(data))\n",
    "    \n",
    "    \n",
    "    #Removing duplicated sentences from Content\n",
    "    data = data[data.Content.duplicated()==False].reset_index()\n",
    "    \n",
    "    #Checking Content after removing duplicated sentences\n",
    "    #print(duplicated_values_data(data))\n",
    "    \n",
    "    for token in remove:\n",
    "        data.Content = data.Content.apply(lambda x: x.replace(token, ' ')) \n",
    "    #Removing the url from Content\n",
    "    data.Content = data.Content.apply(lambda x: remove_url(x))\n",
    "    \n",
    "    \n",
    "    #Shuffling the sentences under Content\n",
    "    random.shuffle(data.Content)\n",
    "    data = data.drop(['index','ID'], axis=1)\n",
    "    \n",
    "    #add arbitrary ID\n",
    "    data.insert(0,\"Arbitrary_ID\", len(May_news_DF.index)+data.index)\n",
    "    \n",
    "\n",
    "    \n",
    "    #Merging the Dataframes\n",
    "    May_news_DF = pd.concat([May_news_DF,data])\n",
    "    \n",
    "\n",
    "#Before removing duplications\n",
    "print(\"Before Removing Duplicated Sentences\")\n",
    "print(duplicated_values_data(May_news_DF))\n",
    "\n",
    "#Removing duplicated sentences from Content\n",
    "May_news_DF = May_news_DF[May_news_DF.Content.duplicated()==False].reset_index()\n",
    "May_news_DF = May_news_DF.drop(['index'], axis=1)\n",
    "print(\"=\"*40,\"\\nAfter Removing Duplicated Sentences\")\n",
    "print(duplicated_values_data(May_news_DF))\n",
    "\n",
    "\n",
    "#Splitting the sentences\n",
    "May_news_DF.Content = May_news_DF.Content.apply(lambda x: sentence_splitter(x))\n",
    "\n",
    "#Remove Latin-alphabets from content \n",
    "May_news_DF.Content = May_news_DF.Content.apply(lambda x: remove_English_letters(x))"
   ]
  },
  {
   "cell_type": "code",
   "execution_count": 81,
   "metadata": {},
   "outputs": [],
   "source": [
    "May_news_DF.to_csv(\"MayNews.csv\")"
   ]
  },
  {
   "cell_type": "code",
   "execution_count": 101,
   "metadata": {},
   "outputs": [],
   "source": [
    "May_news_DF.Content.to_csv(\"MayNews_Content.csv\",index=False)"
   ]
  },
  {
   "cell_type": "code",
   "execution_count": 103,
   "metadata": {},
   "outputs": [
    {
     "data": {
      "text/plain": [
       "1820642"
      ]
     },
     "execution_count": 103,
     "metadata": {},
     "output_type": "execute_result"
    }
   ],
   "source": [
    "#Number of Sentences\n",
    "Sentence_Number = []\n",
    "for x in May_news_DF.Content:\n",
    "    Sentence_Number.append(len(x))\n",
    "\n",
    "sum(Sentence_Number)"
   ]
  },
  {
   "cell_type": "code",
   "execution_count": 170,
   "metadata": {},
   "outputs": [
    {
     "data": {
      "text/html": [
       "<div>\n",
       "<style scoped>\n",
       "    .dataframe tbody tr th:only-of-type {\n",
       "        vertical-align: middle;\n",
       "    }\n",
       "\n",
       "    .dataframe tbody tr th {\n",
       "        vertical-align: top;\n",
       "    }\n",
       "\n",
       "    .dataframe thead th {\n",
       "        text-align: right;\n",
       "    }\n",
       "</style>\n",
       "<table border=\"1\" class=\"dataframe\">\n",
       "  <thead>\n",
       "    <tr style=\"text-align: right;\">\n",
       "      <th></th>\n",
       "      <th>Arbitrary_ID</th>\n",
       "      <th>URL</th>\n",
       "      <th>Date</th>\n",
       "      <th>Media</th>\n",
       "      <th>Content</th>\n",
       "    </tr>\n",
       "  </thead>\n",
       "  <tbody>\n",
       "    <tr>\n",
       "      <th>0</th>\n",
       "      <td>0</td>\n",
       "      <td>https://www.dw.com/am/%E1%8B%AD%E1%8B%98%E1%89...</td>\n",
       "      <td>2020-05-10</td>\n",
       "      <td>ይዘት | DW</td>\n",
       "      <td>[የበኒ ሻንጉል የፖለቲካ ፓርቲዎች ዉዝግብ አውዲዮውን ያዳምጡ።,  03 01 ]</td>\n",
       "    </tr>\n",
       "    <tr>\n",
       "      <th>1</th>\n",
       "      <td>1</td>\n",
       "      <td>https://www.bbc.com/amharic</td>\n",
       "      <td>2020-05-10</td>\n",
       "      <td>ዜና - BBC News አማርኛ</td>\n",
       "      <td>[ዶ ር መረራና 114ቱ እስረኞች ተፈቱ   ሌሎቹስ ?,  19.01.2018...</td>\n",
       "    </tr>\n",
       "    <tr>\n",
       "      <th>2</th>\n",
       "      <td>2</td>\n",
       "      <td>https://amharic.voanews.com//z/4011</td>\n",
       "      <td>2020-05-10</td>\n",
       "      <td>ጋቢና ቪኦኤ - የፕሮግራሙ ተከታታይ ክፍሎች</td>\n",
       "      <td>[1440ኛው የኢድ አል አደሀ አከባበር 11.08.2019 1440ኛው የኢድ...</td>\n",
       "    </tr>\n",
       "    <tr>\n",
       "      <th>3</th>\n",
       "      <td>3</td>\n",
       "      <td>http://www.aigaforum.com/geez-index.php</td>\n",
       "      <td>2020-05-10</td>\n",
       "      <td>Aiga Forum, an Ethiopian forum for news and vi...</td>\n",
       "      <td>[የኢሕአዴግ ውሕደት ጸድቋል  የሕወሓት እጣ ፈንታስ?,  24.11.2019 ]</td>\n",
       "    </tr>\n",
       "    <tr>\n",
       "      <th>4</th>\n",
       "      <td>4</td>\n",
       "      <td>https://www.shegerfm.com/</td>\n",
       "      <td>2020-05-10</td>\n",
       "      <td>ሸገር  | የፊት ገጽ</td>\n",
       "      <td>[ የታፈነዉ  የተቃዉሞና እንቅስቃሴዋ የተቋረጠዉ ጎንደር ባሳለፍነዉ ሳምን...</td>\n",
       "    </tr>\n",
       "  </tbody>\n",
       "</table>\n",
       "</div>"
      ],
      "text/plain": [
       "   Arbitrary_ID                                                URL  \\\n",
       "0             0  https://www.dw.com/am/%E1%8B%AD%E1%8B%98%E1%89...   \n",
       "1             1                        https://www.bbc.com/amharic   \n",
       "2             2                https://amharic.voanews.com//z/4011   \n",
       "3             3            http://www.aigaforum.com/geez-index.php   \n",
       "4             4                          https://www.shegerfm.com/   \n",
       "\n",
       "         Date                                              Media  \\\n",
       "0  2020-05-10                                           ይዘት | DW   \n",
       "1  2020-05-10                                 ዜና - BBC News አማርኛ   \n",
       "2  2020-05-10                        ጋቢና ቪኦኤ - የፕሮግራሙ ተከታታይ ክፍሎች   \n",
       "3  2020-05-10  Aiga Forum, an Ethiopian forum for news and vi...   \n",
       "4  2020-05-10                                      ሸገር  | የፊት ገጽ   \n",
       "\n",
       "                                             Content  \n",
       "0  [የበኒ ሻንጉል የፖለቲካ ፓርቲዎች ዉዝግብ አውዲዮውን ያዳምጡ።,  03 01 ]  \n",
       "1  [ዶ ር መረራና 114ቱ እስረኞች ተፈቱ   ሌሎቹስ ?,  19.01.2018...  \n",
       "2  [1440ኛው የኢድ አል አደሀ አከባበር 11.08.2019 1440ኛው የኢድ...  \n",
       "3   [የኢሕአዴግ ውሕደት ጸድቋል  የሕወሓት እጣ ፈንታስ?,  24.11.2019 ]  \n",
       "4  [ የታፈነዉ  የተቃዉሞና እንቅስቃሴዋ የተቋረጠዉ ጎንደር ባሳለፍነዉ ሳምን...  "
      ]
     },
     "execution_count": 170,
     "metadata": {},
     "output_type": "execute_result"
    }
   ],
   "source": [
    "May_news_DF.head()"
   ]
  },
  {
   "cell_type": "code",
   "execution_count": 171,
   "metadata": {},
   "outputs": [
    {
     "data": {
      "text/plain": [
       "['   ኢትዮጵያዉያን  ስደት  ስደተኞችና መከራቸዉ 17.07.2017 ሰደተኞች  የሰደተኞቹ ልጆች የየተሰደዱበት ሐገርና ሕዝብም  የእልፍ ሲሉ እልፍ  ይገኛል ዉጤት መሆናቸዉ የሚነገር-የሚመሰከርበት የዚሕ ዘመን ፖለቲከኛ የዘመኑን ስደተኛን አይንሕ ላፈር ማለቱ እንጂ  ሰቀቀኑ።',\n",
       " 'የሳዑዲ አረቢያ ነገስታት የተለዩ አይደሉም።',\n",
       " 'እርምጃቸዉ ግን ጠንክሯል።',\n",
       " 'የኢትዮጵያዉኑ ስደተኞች መከራም ከፍቷል።',\n",
       " ' አዉሮጶች እንደሚወገዙ እንደሚወቀሱባቸዉ ብዙ ነገሮች ሁሉ የሚደነቁ የሚመሰገኑባቸዉ አያሌ መርሕ  እርማጃዎች አሏቸዉ።',\n",
       " 'ለልጅ የሚያደርጉትን አለማወደስ ግን በርግጥ አይቻልም።',\n",
       " 'አብዛኞቹ የአዉሮጳ መንግሥታት ለልጅ ገንዘብ ይከፍላሉ።',\n",
       " 'የሳዑዲ አረቢያ ነገሥታት በቅርቡ የነደፉት ዕቅድ እስከ 2030 (እንደ ጎርጎሪያኑ አቆጣጠር ነዉ) ባለዉ ጊዜ ሐገር-ሕዝባቸዉን እንደ አዉሮጳ ለማዘምን ያለመ ነዉ ይላሉ።',\n",
       " 'እኩልነትን ለደካሞች አዘኔታን ለድሆች እርዳትን የሚሰብከዉ ትልቅ ሐይማኖት የፈለቀባት ሐገር ነገስታት ሐገርን በማዘመን ስም እመጫት እርጉዝ በሽተኛ አዛዉንትን ሳይቀር ስደተኛን በገፍ ያባርራሉ።',\n",
       " 'ለማባረር ምክንያት ያጡለትን በየልጁ ቁጥር ልክ ገንዘብ ያስከፍላሉ።',\n",
       " 'የሪያዶች እርምጃ መነሻ  የኢትዮጵያዉን ስደተኞች አበሳ መድረሻችን ነዉ።',\n",
       " '                               ሁለቱ  ዛሬ እንጂ ያኔ የአንድ ክፍለ-ግዛት  የአንድ ዘመን ዉልድ  ግን የማይተዋወቁ የቅርብ-ሩቅ ልጆች ነበሩ።',\n",
       " 'አንደኛዉ የሙዚቃ ፍቅር ጥማቱን ሌላዉ በርትቶ የመስራት ፍላጎቱን ለማርካት  ሁለቱም እኩል ኑሮን የመለወጥ ዓላማን ለማሳካት የመጀመሪያዉ ቀድሞ  ሁለተኛዉ ተከትሎ  ቀዳሚዉ ከየጁ አዲስ አበባ  ተከታዩ ከወልዲያ ጂዳ ገቡ።',\n",
       " ' ከኢንተርኔት በቃረምነዉ መረጃ መሠረት በ1960ዎቹ ከየጁ አዲስ አበባ የገባዉ ከኢትዮጵያ እዉቅ ድምፃዉያን አንዱ ለመሆን   Ä  - ጊዜ አልፈጀበትም።',\n",
       " 'ሥም  አያሌዉ መስፍን።',\n",
       " 'በዚያዉ ዘመን ከወልዲያ ጂዳ የገባዉ ወጣት ዛሬ አዱኛ ከሰገደችላቸዉ የዓለም ጥቂት ቱጃሮች አንዱ ናቸዉ።',\n",
       " 'ሼኽ መሐመድ ሁሴይን አሊ አል አሙዲ።',\n",
       " ' እርግጥ ነዉ ድምፃዊዉ  ብቸኛ ነኝ  ባለዉ ዜማዉ  ካገራችሁ ሳታዉቁ እንዳትወጡ  ማለቱን ያስተወለ  ተሰድዶ ከመሳደድ የያዝኩትን ጠበቅ ብሎ-ያለዉን አድርጎት ይሆን-ይሆናል።',\n",
       " 'ስም ዝናዉ የገነነዉ ድምፃዊ ካዜመዉ ይልቅ እሱ እና መሐመድ ሁሴይን ያደረጉትን  ከነበሩበት ይበልጥ የደረሱበትን ያየ-የሰማ ግን በ እልፍ ሲሉ እልፍ ይገኛል  ብሒል እየተፅናና ኑሮን ለማሻሻል ስደትን ሙጥኝ ቢል በርግጥ  አበጀሕ  እንጂ ሌላ ሊባል አይችልም።',\n",
       " ' ጂዳ-ሳዑዲ አረቢያ የሚኖሩ አንድ ኢትዮጵያዊ እንዳሉት ከ1980ዎቹ ጀምሮ በጣሙን ወደ አረብ ሐገራት በጥቂቱ ወደ አዉሮጳና አሜሪካ የሚሰደደዉ አብዛኛዉ ኢትዮጵያዊም ሰርቶ ከመኖር ዘመድ ወዳጆቹን ከማኖር ያለፈ ዓላማ ፍላጎትም የለዉም።',\n",
       " '                                      ከሔንሪ ወይም ሐይንስ አል ፍሬድ ኪሲንጀር እስከ ማድሊን ወይም ማሪ ጃን ኮርቤሎቭ አል ብራይት ያሉ እዉቅ የአሜሪካ ዲፕሎማቶች ስደተኞች ናቸዉ።',\n",
       " 'ዴቪድ ቤን ጎሪዮን ወይም ግሩን እና የዓላማ ተጋሪዎቻቸዉ ü Ä    ከአዉሮጳ ወደ ፍልስጤም ባይሰደዱ ኖሮ የዛሬዋን ጠንካራ እስራኤልን ማሰብ ዚበዛ ከባድ ነዉ።',\n",
       " '  ባራክ ኦባማ እና  ዶናልድ ትራምፕ ለዩናይትድ ስቴትስ  ርዕሰ ሊቃነ ጳጳሳት ፍራንሲስ ለዓለም ካቶሊኮች  ሚካኤል ኢሊያስ ቴመር ለብራዚል የሠሩና የሚሰሩት ጥሩ ወይም መጥፎ ሊሆን ይችላል።',\n",
       " 'ሁሉም የየሚወክሉትን ሕዝብ የመሩና የሚመሩ ናቸዉ።',\n",
       " 'ሁሉም የስደተኞች ልጆች ናቸዉ።',\n",
       " ' ሰደተኞች  የሰደተኞቹ ልጆች የየተሰደዱበት ሐገርና ሕዝብም  የእልፍ ሲሉ እልፍ  ይገኛል ዉጤት መሆናቸዉ የሚነገር-የሚመሰከርበት የዚሕ ዘመን ፖለቲከኛ የዘመኑን ስደተኛን አይንሕ ላፈር ማለቱ እንጂ  ሰቀቀኑ።',\n",
       " 'የሳዑዲ አረቢያ ነገስታት የተለዩ አይደሉም።',\n",
       " 'እርምጃቸዉ ግን ጠንክሯል።',\n",
       " 'የኢትዮጵያዉኑ ስደተኞች መከራም ከፍቷል።',\n",
       " '                            በ2013  ሪያድ ዉስጥ በሚኖሩ ኢትዮጵያዉያንና በከተማይቱ ወጣቶች መካከል በተከሰተ ግጭት ቢያንስ ሁለት ኢትዮጵያዉያን ተገድለዉ ብዙ ቆስለዋል  ሌሎች ታስረዉ ነበር።',\n",
       " ' በዚያ ዓመት የሳዑዲ አረቢያ መንግሥት ሕገ-ወጥ ያላቸዉን ከ3 እስከ 5 ሚሊዮን የሚደርሱ የዉጪ ሐገር ዜጎችን በጅምላ ወደየሐገራቸዉ አባርሯል።',\n",
       " 'የተባበሩት መንግሥታት ድርጅት እንደሚገምተዉ ያኔ 2 መቶ ሺሕ ያኽል ኢትዮጵያዉያን ወደ ሐገራቸዉ ተመልሰዉ ነበር።',\n",
       " ' ዘንድሮ በተከፈተዉ ዘመቻም ሰባ ሺሕ የሚገመት ኢትዮጵያዊ  ወደ ሐገሩ ተመልሷል።',\n",
       " 'ዘመቻዉ እስካሁን ያልተመለሰዉንና ሕጋዊ መኖሪያ ፍቃድ ወይም ኢጋማ ያለዉን ኢትዮጵያዊ ኑሮም አዉኮታል።',\n",
       " '                               በሳዑዲ አረቢያ መንግሥት ደንብ መሠረት ሕገ-ወጥ የሚባሉት 1 ሚሊዮን የሚደርሱ የዉጪ ዜጎች እስከ ያዝነዉ ወር ማብቂያ ድረስ መዉጣት አለባቸዉ።',\n",
       " 'ሕጋዊ የሚባሉት ደግሞ ለባለቤታቸዉ እና ለልጆቻቸዉ በነብስ ወከፍ በየወሩ መቶ ሪያል መክፈል ግዱ ነዉ።',\n",
       " 'ጋዜጠኛ ነብዩ ሲራክ እንደሚለዉ ግብሩ እና አከፋፈሉ በየትኛዉም ደረጃ ለሚኖር ኢትዮጵያዊ ስድተኛ የሚቻል አይደለም።',\n",
       " '                                          ስማቸዉ እንዲጠቀስ ያልፈለጉት ኢትዮጵያዊ እንደሚሉት ደግሞ ግብሩ የመኖሪያ ፍቃድ በሚታደስበት ጊዜ ሁሉ እየጨመረ የሚሔድ ነዉ።',\n",
       " 'እስካሁን ሕገ-ወጥ በሚባሉት የዉጪ ዜጎች ላይ ያረፈዉ የሳዑዲ አረቢያ ጠንካራ ሕግ ሕጋዊ የሚባሉትንም ተስፋ እያቀጨጨዉ ነዉ።',\n",
       " 'ካነጋገርናቸዉ ኢትዮጵያዉያን አንዱ እንዳሉት የቻለ ይከፍላል   Ä  - ።',\n",
       " 'ያልቻለ ከሚስትና ልጆቹ ይነጠላል።',\n",
       " 'ሌለኛዉ ግን አማራጩ ጠቅልሎ ሐገር መግባት ነዉ ባይ ናቸዉ።',\n",
       " 'ግን የኢትዮጵያ መንግሥትን ይማፀናሉ-ምናለበት እንደ ሱዳን እንኳን ቢሆን እያሉ።',\n",
       " 'እሳቸዉ አከሉበት።',\n",
       " 'እኚሕኛዉ ደግሞ ሳዑዲ አረቢያዎች ስደተኛዉን አልፈለጉትም ይላሉ።',\n",
       " 'ጋዜጠኛ ነብዩም ተመሳሳይ አስተያየት መስማቱን ነግሮናል።',\n",
       " '                               እልፍ ሲሉ እልፍን ተመኝቶ ካገሩ የወጣዉ ኢትዮጵያዊ ከሰሐራ በረሐ እስከ ደቡባዊ አፍሪቃ ዱር ጉራንጉር  ከሜድትራንያን ባሕር እስከ አደን ባሕረ-ሠላጤ ሲረግፍ ኢትዮጵያዊዉ አልቀሳሏል።',\n",
       " 'ያለቅሳልም።',\n",
       " 'አሸባሪዎች ሲገድሉት ባደባባይ አርግዷል።',\n",
       " 'ሥለ ስደት አስከፊነት ገጣሚዉ ተቀኝቶበታል።',\n",
       " ' ደራሲዉ መፅሐፍ አሳትሞበታል።',\n",
       " 'ድምፃዊዉ አንጎራግሯል።',\n",
       " 'የመንግሥት ሹመኛዉ  ደላላ  እያለ የሚያወግዛቸዉን ቀጥቷል።',\n",
       " 'ሌላዉ ቀርቶ የማስታወቂያ ሙያቶች  ሐገራችን  ምን ጠፍቶ  እያሉ ስደተኛዉ ሐገሩ እንዲገባ ጠርተዉታል።',\n",
       " 'መጣ።',\n",
       " 'ግን ማን ምን አደረገለት?',\n",
       " '  ምንም  ባዮች እንደገና ተሰደዱ።',\n",
       " ' ቸር ያሰማን።',\n",
       " '                                    ']"
      ]
     },
     "execution_count": 171,
     "metadata": {},
     "output_type": "execute_result"
    }
   ],
   "source": [
    "May_news_DF.Content[10]"
   ]
  },
  {
   "cell_type": "code",
   "execution_count": null,
   "metadata": {},
   "outputs": [],
   "source": []
  }
 ],
 "metadata": {
  "kernelspec": {
   "display_name": "Python 3",
   "language": "python",
   "name": "python3"
  },
  "language_info": {
   "codemirror_mode": {
    "name": "ipython",
    "version": 3
   },
   "file_extension": ".py",
   "mimetype": "text/x-python",
   "name": "python",
   "nbconvert_exporter": "python",
   "pygments_lexer": "ipython3",
   "version": "3.7.3"
  }
 },
 "nbformat": 4,
 "nbformat_minor": 4
}
